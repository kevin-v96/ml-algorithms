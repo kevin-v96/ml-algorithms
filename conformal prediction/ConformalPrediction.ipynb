{
 "cells": [
  {
   "cell_type": "markdown",
   "id": "d891ecb8",
   "metadata": {},
   "source": [
    "# Nearest Neighbour algorithm"
   ]
  },
  {
   "cell_type": "markdown",
   "id": "89efbc92",
   "metadata": {},
   "source": [
    "This is an implementation of the K-nearest neighbour algorithm, which decides the label of a sample by looking at its nearest neighbour."
   ]
  },
  {
   "cell_type": "markdown",
   "id": "bbcb6957",
   "metadata": {},
   "source": [
    "First, we take care of all the imports"
   ]
  },
  {
   "cell_type": "code",
   "execution_count": 174,
   "id": "535eff15",
   "metadata": {},
   "outputs": [],
   "source": [
    "from sklearn.datasets import load_iris\n",
    "import matplotlib.pyplot as plt\n",
    "import numpy as np\n",
    "import pandas as pd\n",
    "from statistics import mode"
   ]
  },
  {
   "cell_type": "code",
   "execution_count": 175,
   "id": "6370c966",
   "metadata": {},
   "outputs": [],
   "source": [
    "from sklearn.model_selection import train_test_split"
   ]
  },
  {
   "cell_type": "code",
   "execution_count": 176,
   "id": "996cebc6",
   "metadata": {},
   "outputs": [],
   "source": [
    "iris = load_iris()"
   ]
  },
  {
   "cell_type": "markdown",
   "id": "93fc3922",
   "metadata": {},
   "source": [
    "Before we go any further, let us split the iris dataset into training and test sets so that the accuracy of our nearest neighbour model can later be measured"
   ]
  },
  {
   "cell_type": "code",
   "execution_count": 177,
   "id": "e5b63c88",
   "metadata": {},
   "outputs": [],
   "source": [
    "X_train, X_test, y_train, y_test = train_test_split(iris['data'], iris['target'], random_state=307)"
   ]
  },
  {
   "cell_type": "code",
   "execution_count": 178,
   "id": "ab08e537",
   "metadata": {},
   "outputs": [
    {
     "data": {
      "text/plain": [
       "(112, 4)"
      ]
     },
     "execution_count": 178,
     "metadata": {},
     "output_type": "execute_result"
    }
   ],
   "source": [
    "X_train.shape"
   ]
  },
  {
   "cell_type": "code",
   "execution_count": 179,
   "id": "0a7f794c",
   "metadata": {},
   "outputs": [
    {
     "data": {
      "text/plain": [
       "(38, 4)"
      ]
     },
     "execution_count": 179,
     "metadata": {},
     "output_type": "execute_result"
    }
   ],
   "source": [
    "X_test.shape"
   ]
  },
  {
   "cell_type": "markdown",
   "id": "d1883e12",
   "metadata": {},
   "source": [
    "Let us first write the code to calculate the euclidean distance between two vectors _test_ and _train_"
   ]
  },
  {
   "cell_type": "code",
   "execution_count": 180,
   "id": "ff0b9e2e",
   "metadata": {},
   "outputs": [],
   "source": [
    "def euclidean(train, test):\n",
    "    squares = [(x-y)**2 for (x,y) in zip(train,test)]\n",
    "    return np.sqrt(np.sum(squares))"
   ]
  },
  {
   "cell_type": "markdown",
   "id": "cd7848bd",
   "metadata": {},
   "source": [
    "We need code to calculate the distances of a particular test sample from all the points in the training dataset"
   ]
  },
  {
   "cell_type": "code",
   "execution_count": 181,
   "id": "61e5b0cf",
   "metadata": {},
   "outputs": [],
   "source": [
    "def calcDistance(X_train,testSample):\n",
    "    distance=[]\n",
    "    for x in X_train:\n",
    "        distance.append(euclidean(x, testSample))\n",
    "    return pd.DataFrame(data=distance,columns=['distance'])"
   ]
  },
  {
   "cell_type": "markdown",
   "id": "8e626431",
   "metadata": {},
   "source": [
    "We will find the distances to K nearest neighbors for this particular test sample"
   ]
  },
  {
   "cell_type": "code",
   "execution_count": 182,
   "id": "4916511a",
   "metadata": {},
   "outputs": [],
   "source": [
    "def getNearestNeighborDistances(k,X_train,testSample):\n",
    "    distances=calcDistance(X_train,testSample)\n",
    "    nearestNeighborDistances=distances['distance'].nsmallest(k,keep='last')\n",
    "    return (nearestNeighborDistances)"
   ]
  },
  {
   "cell_type": "markdown",
   "id": "60aad739",
   "metadata": {},
   "source": [
    "From these distances, we need to find the labels for the nearest neighbors and use them to find the label of the test sample's prediction"
   ]
  },
  {
   "cell_type": "code",
   "execution_count": 183,
   "id": "b3285e76",
   "metadata": {},
   "outputs": [],
   "source": [
    "def getLabel(distances,y_train):\n",
    "    labels=[]\n",
    "    for index,distance in distances.items():\n",
    "        labels.append(y_train[index])\n",
    "    return(mode(labels))\n",
    "\n",
    "def getPredictionLabel(k,X_train,testSample,y_train):\n",
    "    distances=getNearestNeighborDistances(k,X_train, testSample)\n",
    "    return getLabel(distances,y_train)"
   ]
  },
  {
   "cell_type": "markdown",
   "id": "59f815c3",
   "metadata": {},
   "source": [
    "Now we put down the overarching KNN function that we can use to calculate the predictions for the test set"
   ]
  },
  {
   "cell_type": "code",
   "execution_count": 184,
   "id": "c0392bda",
   "metadata": {},
   "outputs": [],
   "source": [
    "def KNearestNeighbors(k,X_train,X_test,y_train,y_test):\n",
    "    predictions = []\n",
    "    for testSample in X_test:\n",
    "        predictions.append(getPredictionLabel(k,X_train,testSample,y_train))\n",
    "    return predictions"
   ]
  },
  {
   "cell_type": "markdown",
   "id": "17824b27",
   "metadata": {},
   "source": [
    "Looks good so far - let us test this with K=1"
   ]
  },
  {
   "cell_type": "code",
   "execution_count": 185,
   "id": "4913397a",
   "metadata": {},
   "outputs": [
    {
     "name": "stdout",
     "output_type": "stream",
     "text": [
      "[2, 2, 2, 1, 2, 0, 0, 2, 2, 0, 2, 2, 0, 2, 1, 1, 2, 2, 1, 2, 0, 1, 1, 2, 1, 2, 2, 2, 0, 2, 2, 0, 0, 2, 1, 0, 2, 1]\n"
     ]
    }
   ],
   "source": [
    "predictions=KNearestNeighbors(1,X_train,X_test,y_train,y_test)\n",
    "print(predictions)"
   ]
  },
  {
   "cell_type": "markdown",
   "id": "69dc062b",
   "metadata": {},
   "source": [
    "Looks like we've made some predictions. Now let us count the number of errors our classifier has made."
   ]
  },
  {
   "cell_type": "code",
   "execution_count": 186,
   "id": "05f9f353",
   "metadata": {},
   "outputs": [
    {
     "data": {
      "text/plain": [
       "[2, 0.05263157894736842]"
      ]
     },
     "execution_count": 186,
     "metadata": {},
     "output_type": "execute_result"
    }
   ],
   "source": [
    "def getErrors(predictions):\n",
    "    errorCount=0\n",
    "    for i in range(len(predictions)):\n",
    "        if(predictions[i]!=y_test[i]):\n",
    "            errorCount+=1\n",
    "    errorRate=errorCount/len(y_test)\n",
    "    return[errorCount,errorRate]\n",
    "\n",
    "getErrors(predictions)"
   ]
  },
  {
   "cell_type": "markdown",
   "id": "7cdbecad",
   "metadata": {},
   "source": [
    "This looks like a good enough performance for K=1. Now let us try it for a higher K."
   ]
  },
  {
   "cell_type": "code",
   "execution_count": 187,
   "id": "873dbb68",
   "metadata": {},
   "outputs": [
    {
     "data": {
      "text/plain": [
       "[2, 0.05263157894736842]"
      ]
     },
     "execution_count": 187,
     "metadata": {},
     "output_type": "execute_result"
    }
   ],
   "source": [
    "predictions3NN=KNearestNeighbors(3,X_train,X_test,y_train,y_test)\n",
    "getErrors(predictions3NN)"
   ]
  },
  {
   "cell_type": "markdown",
   "id": "a6c081a1",
   "metadata": {},
   "source": [
    "Now let us map the error rate as a function of K"
   ]
  },
  {
   "cell_type": "code",
   "execution_count": 188,
   "id": "57133552",
   "metadata": {},
   "outputs": [
    {
     "data": {
      "text/plain": [
       "[<matplotlib.lines.Line2D at 0x7fe5c21df2b0>]"
      ]
     },
     "execution_count": 188,
     "metadata": {},
     "output_type": "execute_result"
    },
    {
     "data": {
      "image/png": "[encoded data removed]",
      "text/plain": [
       "<Figure size 432x288 with 1 Axes>"
      ]
     },
     "metadata": {
      "needs_background": "light"
     },
     "output_type": "display_data"
    }
   ],
   "source": [
    "errorRates=[]\n",
    "K_max=50\n",
    "results = np.empty(K_max)\n",
    "for k in range(K_max):\n",
    "    preds=KNearestNeighbors(k+1,X_train,X_test,y_train,y_test)\n",
    "    results[k] = getErrors(preds)[1]\n",
    "plt.plot(np.arange(K_max)+1, results)"
   ]
  },
  {
   "cell_type": "markdown",
   "id": "add114a3",
   "metadata": {},
   "source": [
    "As we can see, the error rate of our predictor is the lowest between K=8 and K=16 and then a couple of other specific values of K"
   ]
  },
  {
   "cell_type": "markdown",
   "id": "aaba52d4",
   "metadata": {},
   "source": [
    "Let us now test our classifier with the ionosphere dataset"
   ]
  },
  {
   "cell_type": "code",
   "execution_count": 189,
   "id": "cf7f431e",
   "metadata": {},
   "outputs": [],
   "source": [
    "X = np.genfromtxt(\"ionosphere.txt\", delimiter=\",\", usecols=np.arange(34))\n",
    "y = np.genfromtxt(\"ionosphere.txt\", delimiter=\",\", usecols=34, dtype=\"int\")"
   ]
  },
  {
   "cell_type": "code",
   "execution_count": 190,
   "id": "f6395788",
   "metadata": {},
   "outputs": [],
   "source": [
    "X_i_train, X_i_test, y_i_train, y_i_test = train_test_split(X, y, random_state=307)"
   ]
  },
  {
   "cell_type": "markdown",
   "id": "2163ebf1",
   "metadata": {},
   "source": [
    "Let us plot the same graph as above for the ionosphere data"
   ]
  },
  {
   "cell_type": "code",
   "execution_count": 191,
   "id": "e287bcb9",
   "metadata": {},
   "outputs": [
    {
     "data": {
      "text/plain": [
       "[<matplotlib.lines.Line2D at 0x7fe5c23234c0>]"
      ]
     },
     "execution_count": 191,
     "metadata": {},
     "output_type": "execute_result"
    },
    {
     "data": {
      "image/png": "[encoded data removed]",
      "text/plain": [
       "<Figure size 432x288 with 1 Axes>"
      ]
     },
     "metadata": {
      "needs_background": "light"
     },
     "output_type": "display_data"
    }
   ],
   "source": [
    "def getIonosphereErrors(predictions):\n",
    "    errorCount=0\n",
    "    for i in range(len(predictions)):\n",
    "        if(predictions[i]!=y_i_test[i]):\n",
    "            errorCount+=1\n",
    "    errorRate=errorCount/len(y_i_test)\n",
    "    return[errorCount,errorRate]\n",
    "\n",
    "errorRates=[]\n",
    "K_max=50\n",
    "results = np.empty(K_max)\n",
    "for k in range(K_max):\n",
    "    preds=KNearestNeighbors(k+1,X_i_train,X_i_test,y_i_train,y_i_test)\n",
    "    results[k] = getIonosphereErrors(preds)[1]\n",
    "plt.plot(np.arange(K_max)+1, results)"
   ]
  },
  {
   "cell_type": "code",
   "execution_count": 194,
   "id": "d85dd48f",
   "metadata": {},
   "outputs": [
    {
     "data": {
      "text/plain": [
       "0.11363636363636363"
      ]
     },
     "execution_count": 194,
     "metadata": {},
     "output_type": "execute_result"
    }
   ],
   "source": [
    "results[0]"
   ]
  },
  {
   "cell_type": "code",
   "execution_count": 195,
   "id": "bb48d943",
   "metadata": {},
   "outputs": [
    {
     "data": {
      "text/plain": [
       "0.1590909090909091"
      ]
     },
     "execution_count": 195,
     "metadata": {},
     "output_type": "execute_result"
    }
   ],
   "source": [
    "results[2]"
   ]
  },
  {
   "cell_type": "markdown",
   "id": "eaac5cc8",
   "metadata": {},
   "source": [
    "As we can see, our error rate sits at an acceptable 0.15 or so around k=3 to k=5"
   ]
  },
  {
   "cell_type": "markdown",
   "id": "6497b10b",
   "metadata": {},
   "source": [
    "# Conformal Prediction"
   ]
  },
  {
   "cell_type": "markdown",
   "id": "1c39633f",
   "metadata": {},
   "source": [
    "Let us start by modifying the distance function for conformal prediction"
   ]
  },
  {
   "cell_type": "code",
   "execution_count": 196,
   "id": "0fb1d1f8",
   "metadata": {},
   "outputs": [],
   "source": [
    "def getNearestDistance(labelSamples, sample):\n",
    "    distances=calcDistance(labelSamples,sample)\n",
    "    return distances['distance'].min()"
   ]
  },
  {
   "cell_type": "markdown",
   "id": "bcdd49a1",
   "metadata": {},
   "source": [
    "Now, let us look at how to calculate the conformity scores"
   ]
  },
  {
   "cell_type": "code",
   "execution_count": 197,
   "id": "4c127fd2",
   "metadata": {},
   "outputs": [],
   "source": [
    "def getConformityDistances(sameLabelSamples, diffLabelSamples, sample):\n",
    "    sameDistance = getNearestDistance(sameLabelSamples, sample)\n",
    "    diffDistance=getNearestDistance(diffLabelSamples, sample)\n",
    "    return (sameDistance, diffDistance)\n",
    "\n",
    "def splitSet(trainingSamples,trainingLabels, sampleLabel):\n",
    "    sameLabelSamples = [x for x,y in zip(trainingSamples, trainingLabels) if y==sampleLabel]\n",
    "    diffLabelSamples = [x for x,y in zip(trainingSamples, trainingLabels) if y!=sampleLabel]\n",
    "    return (sameLabelSamples, diffLabelSamples)\n",
    "\n",
    "def getConformityScores(extendedSet,extendedLabels):\n",
    "    conScores = []\n",
    "    for sample, index in zip(extendedSet,range(len(extendedLabels))):\n",
    "        trainingSet = np.delete(extendedSet,index,axis=0)\n",
    "        trainingLabels = np.delete(extendedLabels,index)\n",
    "        sampleLabel = extendedLabels[index]\n",
    "        (sameLabelSamples, diffLabelSamples) = splitSet(trainingSet,trainingLabels, sampleLabel)\n",
    "        (sameDistance, diffDistance) = getConformityDistances(sameLabelSamples, diffLabelSamples, sample)\n",
    "        conScore = diffDistance/sameDistance if sameDistance !=0 else np.Inf\n",
    "        conScores.append(conScore)\n",
    "    return conScores"
   ]
  },
  {
   "cell_type": "markdown",
   "id": "4ba44872",
   "metadata": {},
   "source": [
    "And how to calculate the P values from the conformity scores"
   ]
  },
  {
   "cell_type": "code",
   "execution_count": 198,
   "id": "baf25403",
   "metadata": {},
   "outputs": [],
   "source": [
    "def rankData(a):\n",
    "    u, v = np.unique(a, return_inverse=True)\n",
    "    return (np.cumsum(np.bincount(v)) - 1)[v] + 1\n",
    "\n",
    "def getPValues(X_train, testSample, y_train):\n",
    "    extendedSet=np.vstack((X_train,testSample))\n",
    "    pValues = {'pValues': []}\n",
    "    for assumedLabel in list(set(y_train)):\n",
    "        extendedLabels = np.append(y_train, assumedLabel)\n",
    "        conScores = getConformityScores(extendedSet,extendedLabels)\n",
    "        ranks = rankData(conScores)\n",
    "        pValues[assumedLabel] = [i / len(conScores) for i in ranks[0:-1]]\n",
    "        pValues['pValues'].append(ranks[-1] / len(conScores))\n",
    "    return(pValues)  "
   ]
  },
  {
   "cell_type": "markdown",
   "id": "ba1f8606",
   "metadata": {},
   "source": [
    "Finally, let us figure out how to calculate the average false p values"
   ]
  },
  {
   "cell_type": "code",
   "execution_count": 199,
   "id": "7e88b39f",
   "metadata": {},
   "outputs": [],
   "source": [
    "def getAvgFalsePValues(pValues):\n",
    "    avgFalsePValues = []\n",
    "    for value in pValues:\n",
    "        value.remove(max(value))\n",
    "        avgFalsePValues.append(value)\n",
    "    return np.average(avgFalsePValues)"
   ]
  },
  {
   "cell_type": "markdown",
   "id": "d3ab7e95",
   "metadata": {},
   "source": [
    "Time to test this out"
   ]
  },
  {
   "cell_type": "code",
   "execution_count": 200,
   "id": "c5b9a8e8",
   "metadata": {},
   "outputs": [],
   "source": [
    "def conformalPrediction(X_train, X_test, y_train):\n",
    "    pValuesForLabels = []\n",
    "    for testSample in X_test:\n",
    "        pValuesForLabels.append(getPValues(X_train, testSample, y_train))\n",
    "    pValues=[i['pValues'] for i in pValuesForLabels]\n",
    "    avgFalsePValues = getAvgFalsePValues(pValues)\n",
    "    print(avgFalsePValues)"
   ]
  },
  {
   "cell_type": "markdown",
   "id": "491ea749",
   "metadata": {},
   "source": [
    "We'd earlier imported the iris dataset - let us test our conformal prediction nearest neighbour predictor on the same first."
   ]
  },
  {
   "cell_type": "code",
   "execution_count": 201,
   "id": "9636606b",
   "metadata": {},
   "outputs": [
    {
     "name": "stdout",
     "output_type": "stream",
     "text": [
      "0.010130414531904984\n"
     ]
    }
   ],
   "source": [
    "conformalPrediction(X_train, X_test, y_train)"
   ]
  },
  {
   "cell_type": "markdown",
   "id": "053488f8",
   "metadata": {},
   "source": [
    "This looks about right - now let us test the same on the ionosphere dataset that we imported from the txt file"
   ]
  },
  {
   "cell_type": "code",
   "execution_count": 202,
   "id": "c1dda4d3",
   "metadata": {},
   "outputs": [
    {
     "name": "stdout",
     "output_type": "stream",
     "text": [
      "0.037017906336088154\n"
     ]
    }
   ],
   "source": [
    "conformalPrediction(X_i_train, X_i_test, y_i_train)"
   ]
  },
  {
   "cell_type": "markdown",
   "id": "10fc070c",
   "metadata": {},
   "source": [
    "Here's our average false p value for the ionosphere dataset - though this took a little longer to calculate than iris."
   ]
  }
 ],
 "metadata": {
  "kernelspec": {
   "display_name": "Python 3 (ipykernel)",
   "language": "python",
   "name": "python3"
  },
  "language_info": {
   "codemirror_mode": {
    "name": "ipython",
    "version": 3
   },
   "file_extension": ".py",
   "mimetype": "text/x-python",
   "name": "python",
   "nbconvert_exporter": "python",
   "pygments_lexer": "ipython3",
   "version": "3.8.11"
  }
 },
 "nbformat": 4,
 "nbformat_minor": 5
}
