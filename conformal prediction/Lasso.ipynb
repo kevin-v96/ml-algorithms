{
 "cells": [
  {
   "cell_type": "markdown",
   "id": "bed8ce13",
   "metadata": {},
   "source": [
    "# Lasso parameter selection and Inductive Conformal Predictor"
   ]
  },
  {
   "cell_type": "markdown",
   "id": "9aa8fb4b",
   "metadata": {},
   "source": [
    "### 1\n",
    "Firstly, we'll load the scikit-learn version of the diabetes dataset with load_diabetes"
   ]
  },
  {
   "cell_type": "code",
   "execution_count": 1,
   "id": "e99b672e",
   "metadata": {},
   "outputs": [],
   "source": [
    "from sklearn.datasets import load_diabetes"
   ]
  },
  {
   "cell_type": "code",
   "execution_count": 2,
   "id": "51f20549",
   "metadata": {},
   "outputs": [],
   "source": [
    "diabetes = load_diabetes()"
   ]
  },
  {
   "cell_type": "code",
   "execution_count": 5,
   "id": "1e8e2b4a",
   "metadata": {},
   "outputs": [
    {
     "name": "stdout",
     "output_type": "stream",
     "text": [
      ".. _diabetes_dataset:\n",
      "\n",
      "Diabetes dataset\n",
      "----------------\n",
      "\n",
      "Ten baseline variables, age, sex, body mass index, average blood\n",
      "pressure, and six blood serum measurements were obtained for each of n =\n",
      "442 diabetes patients, as well as the response of interest, a\n",
      "quantitative measure of disease progression one year after baseline.\n",
      "\n",
      "**Data Set Characteristics:**\n",
      "\n",
      "  :Number of Instances: 442\n",
      "\n",
      "  :Number of Attributes: First 10 columns are numeric predictive values\n",
      "\n",
      "  :Target: Column 11 is a quantitative measure of disease progression one year after baseline\n",
      "\n",
      "  :Attribute Information:\n",
      "      - age     age in years\n",
      "      - sex\n",
      "      - bmi     body mass index\n",
      "      - bp      average blood pressure\n",
      "      - s1      tc, total serum cholesterol\n",
      "      - s2      ldl, low-density lipoproteins\n",
      "      - s3      hdl, high-density lipoproteins\n",
      "      - s4      tch, total cholesterol / HDL\n",
      "      - s5      ltg, possibly log of serum triglycerides level\n",
      "      - s6      glu, blood sugar level\n",
      "\n",
      "Note: Each of these 10 feature variables have been mean centered and scaled by the standard deviation times `n_samples` (i.e. the sum of squares of each column totals 1).\n",
      "\n",
      "Source URL:\n",
      "https://www4.stat.ncsu.edu/~boos/var.select/diabetes.html\n",
      "\n",
      "For more information see:\n",
      "Bradley Efron, Trevor Hastie, Iain Johnstone and Robert Tibshirani (2004) \"Least Angle Regression,\" Annals of Statistics (with discussion), 407-499.\n",
      "(https://web.stanford.edu/~hastie/Papers/LARS/LeastAngle_2002.pdf)\n"
     ]
    }
   ],
   "source": [
    "print(diabetes.DESCR)"
   ]
  },
  {
   "cell_type": "markdown",
   "id": "96edbb98",
   "metadata": {},
   "source": [
    "### 2\n",
    "Let's split it into training and test sets"
   ]
  },
  {
   "cell_type": "code",
   "execution_count": 11,
   "id": "3d72d88e",
   "metadata": {},
   "outputs": [],
   "source": [
    "from sklearn.model_selection import train_test_split\n",
    "X_train, X_test, y_train, y_test = train_test_split(diabetes.data, diabetes.target, random_state=307)"
   ]
  },
  {
   "cell_type": "code",
   "execution_count": 19,
   "id": "97630bff",
   "metadata": {},
   "outputs": [],
   "source": [
    "from sklearn.linear_model import Lasso\n",
    "import numpy as np\n",
    "lasso = Lasso().fit(X_train, y_train)"
   ]
  },
  {
   "cell_type": "code",
   "execution_count": 20,
   "id": "30d30606",
   "metadata": {},
   "outputs": [
    {
     "data": {
      "text/plain": [
       "0.36779324829211146"
      ]
     },
     "execution_count": 20,
     "metadata": {},
     "output_type": "execute_result"
    }
   ],
   "source": [
    "lasso.score(X_train, y_train)"
   ]
  },
  {
   "cell_type": "code",
   "execution_count": 21,
   "id": "f18652dd",
   "metadata": {},
   "outputs": [
    {
     "data": {
      "text/plain": [
       "0.3362814529900525"
      ]
     },
     "execution_count": 21,
     "metadata": {},
     "output_type": "execute_result"
    }
   ],
   "source": [
    "lasso.score(X_test, y_test)"
   ]
  },
  {
   "cell_type": "markdown",
   "id": "6fd42b8a",
   "metadata": {},
   "source": [
    "### 3\n",
    "As we can see, the raining and test set scores for the default Lasso and the scikit diabetes dataset are 0.367 and 0.336, respectively"
   ]
  },
  {
   "cell_type": "code",
   "execution_count": 22,
   "id": "475a5280",
   "metadata": {},
   "outputs": [
    {
     "data": {
      "text/plain": [
       "3"
      ]
     },
     "execution_count": 22,
     "metadata": {},
     "output_type": "execute_result"
    }
   ],
   "source": [
    "np.sum(lasso.coef_ != 0)"
   ]
  },
  {
   "cell_type": "code",
   "execution_count": 23,
   "id": "d79796a1",
   "metadata": {},
   "outputs": [
    {
     "data": {
      "text/plain": [
       "array([  0.        ,  -0.        , 397.79090115,   2.42286963,\n",
       "         0.        ,   0.        ,  -0.        ,   0.        ,\n",
       "       292.26659239,   0.        ])"
      ]
     },
     "execution_count": 23,
     "metadata": {},
     "output_type": "execute_result"
    }
   ],
   "source": [
    "lasso.coef_"
   ]
  },
  {
   "cell_type": "markdown",
   "id": "7b52a53c",
   "metadata": {},
   "source": [
    "The 3rd, 4th and 9th features. i.e, bmi, bp, and ltg, possibly log of serum triglycerides level are used by the Lasso model."
   ]
  },
  {
   "cell_type": "markdown",
   "id": "cf84f961",
   "metadata": {},
   "source": [
    "### 4\n",
    "\n",
    "We will now load the original (not normalized) diabetes dataset we got from https://trevorhastie.github.io/data.html"
   ]
  },
  {
   "cell_type": "code",
   "execution_count": 30,
   "id": "79ea0a3a",
   "metadata": {},
   "outputs": [],
   "source": [
    "diab_original = np.genfromtxt(\"diabetes.data\", skip_header=True)"
   ]
  },
  {
   "cell_type": "code",
   "execution_count": 31,
   "id": "25d81ef4",
   "metadata": {},
   "outputs": [
    {
     "data": {
      "text/plain": [
       "array([[ 59.    ,   2.    ,  32.1   , ...,   4.8598,  87.    , 151.    ],\n",
       "       [ 48.    ,   1.    ,  21.6   , ...,   3.8918,  69.    ,  75.    ],\n",
       "       [ 72.    ,   2.    ,  30.5   , ...,   4.6728,  85.    , 141.    ],\n",
       "       ...,\n",
       "       [ 60.    ,   2.    ,  24.9   , ...,   4.1271,  95.    , 132.    ],\n",
       "       [ 36.    ,   1.    ,  30.    , ...,   5.1299,  85.    , 220.    ],\n",
       "       [ 36.    ,   1.    ,  19.6   , ...,   4.5951,  92.    ,  57.    ]])"
      ]
     },
     "execution_count": 31,
     "metadata": {},
     "output_type": "execute_result"
    }
   ],
   "source": [
    "diab_original"
   ]
  },
  {
   "cell_type": "code",
   "execution_count": 32,
   "id": "4a9c96c3",
   "metadata": {},
   "outputs": [],
   "source": [
    "X = diab_original[:, 0:-1]"
   ]
  },
  {
   "cell_type": "code",
   "execution_count": 34,
   "id": "a3bf9f40",
   "metadata": {},
   "outputs": [],
   "source": [
    "y = diab_original[:, -1]"
   ]
  },
  {
   "cell_type": "code",
   "execution_count": 35,
   "id": "34c902bc",
   "metadata": {},
   "outputs": [
    {
     "name": "stdout",
     "output_type": "stream",
     "text": [
      "(442, 10)\n",
      "(442,)\n"
     ]
    }
   ],
   "source": [
    "print(X.shape)\n",
    "print(y.shape)"
   ]
  },
  {
   "cell_type": "markdown",
   "id": "234c2275",
   "metadata": {},
   "source": [
    "### 5\n",
    "Let's split the dataset into training and test sets"
   ]
  },
  {
   "cell_type": "code",
   "execution_count": 36,
   "id": "3fc41721",
   "metadata": {},
   "outputs": [],
   "source": [
    "X_train, X_test, y_train, y_test = train_test_split(X, y, random_state=307)"
   ]
  },
  {
   "cell_type": "code",
   "execution_count": 37,
   "id": "be7c0624",
   "metadata": {},
   "outputs": [
    {
     "name": "stdout",
     "output_type": "stream",
     "text": [
      "The training score is:  0.5154674892898614\n",
      "The test score is:  0.48589838321772183\n",
      "The number of features used is:  9\n"
     ]
    }
   ],
   "source": [
    "lasso = Lasso().fit(X_train, y_train)\n",
    "print(\"The training score is: \", lasso.score(X_train, y_train))\n",
    "print(\"The test score is: \",lasso.score(X_test, y_test))\n",
    "print(\"The number of features used is: \", np.sum(lasso.coef_ != 0))"
   ]
  },
  {
   "cell_type": "markdown",
   "id": "76ea87e5",
   "metadata": {},
   "source": [
    "### 6\n",
    "After repeating step no. 3 for the unnormalised dataset, we see that the scores seen here with the default parameters are a little higher than the ones seen in the above normalised dataset, and the features that are used increase drastically from 3 to almost the whole set of features, 9/10. At this point, it might as well be Ridge regression."
   ]
  },
  {
   "cell_type": "markdown",
   "id": "99011c52",
   "metadata": {},
   "source": [
    "### 7\n",
    "Let's preprocess the dataset using StandarScaler"
   ]
  },
  {
   "cell_type": "code",
   "execution_count": 38,
   "id": "4dc42cf6",
   "metadata": {},
   "outputs": [],
   "source": [
    "from sklearn.preprocessing import StandardScaler\n",
    "scaler = StandardScaler()\n",
    "scaler.fit(X_train)\n",
    "X_train_scaled = scaler.transform(X_train)\n",
    "X_test_scaled = scaler.transform(X_test)"
   ]
  },
  {
   "cell_type": "code",
   "execution_count": 39,
   "id": "4616b1c3",
   "metadata": {},
   "outputs": [
    {
     "name": "stdout",
     "output_type": "stream",
     "text": [
      "The training score is:  0.5178054444563157\n",
      "The test score is:  0.49007071104495203\n",
      "The number of features used is:  8\n"
     ]
    }
   ],
   "source": [
    "lasso = Lasso().fit(X_train_scaled, y_train)\n",
    "print(\"The training score is: \", lasso.score(X_train_scaled, y_train))\n",
    "print(\"The test score is: \",lasso.score(X_test_scaled, y_test))\n",
    "print(\"The number of features used is: \", np.sum(lasso.coef_ != 0))"
   ]
  },
  {
   "cell_type": "markdown",
   "id": "e3282780",
   "metadata": {},
   "source": [
    "### 8\n",
    "Repeating the steps from item 3, we see that these results are closer to the results from item 6, with 8 features used instead of 9 and almost the same training and test scores. We would expect the results to be similar to the ones from item 3, since the main difference between the previous results was that the initial one was gotten by training a Lasso on normalized data, while the other one was on data that was not normalized.\n",
    "\n",
    "This is likely because we used the StandardScaler, which makes the mean of features 0 and variance 1, whereas the already normalized data that we started out with had Normalization done on it."
   ]
  },
  {
   "cell_type": "code",
   "execution_count": 68,
   "id": "27ee63f2",
   "metadata": {},
   "outputs": [
    {
     "name": "stdout",
     "output_type": "stream",
     "text": [
      "[1e-06, 1e-05, 0.0001, 0.001, 0.01, 0.1, 1, 10, 15, 20, 30, 50, 100]\n",
      "[10, 10, 10, 10, 10, 10, 8, 4, 3, 3, 2, 0, 0]\n",
      "[0.4951313427502605, 0.4951311256515436, 0.49512895432459103, 0.4951072014511807, 0.4948855839971581, 0.4934912167778295, 0.49007071104495203, 0.43136227253358117, 0.3906628202321326, 0.34311366679625843, 0.22874632816243756, -0.004709748419508664, -0.004709748419508664]\n"
     ]
    }
   ],
   "source": [
    "alphas = [0.000001, 0.00001, 0.0001,0.001,0.01,0.1,1,10,15, 20, 30, 50, 100]\n",
    "usedCoefs = []\n",
    "scores = []\n",
    "for alpha in alphas:\n",
    "    lasso = Lasso(alpha=alpha, max_iter = 100000).fit(X_train_scaled, y_train)\n",
    "    usedCoefs.append(np.sum(lasso.coef_ != 0))\n",
    "    scores.append(lasso.score(X_test_scaled, y_test))\n",
    "print(alphas)\n",
    "print(usedCoefs)\n",
    "print(scores)"
   ]
  },
  {
   "cell_type": "code",
   "execution_count": 69,
   "id": "40bc2467",
   "metadata": {},
   "outputs": [
    {
     "data": {
      "text/plain": [
       "(-1.0, 1.0)"
      ]
     },
     "execution_count": 69,
     "metadata": {},
     "output_type": "execute_result"
    },
    {
     "data": {
      "image/png": "[encoded data removed]",
      "text/plain": [
       "<Figure size 432x288 with 1 Axes>"
      ]
     },
     "metadata": {
      "needs_background": "light"
     },
     "output_type": "display_data"
    }
   ],
   "source": [
    "%matplotlib inline\n",
    "import matplotlib.pyplot as plt\n",
    "\n",
    "plt.plot(usedCoefs, scores, 'v')\n",
    "plt.xlabel(\"Number of used coefficients\") \n",
    "plt.ylabel(\"R squared error\")\n",
    "plt.ylim(-1, 1)"
   ]
  },
  {
   "cell_type": "markdown",
   "id": "d1da1287",
   "metadata": {},
   "source": [
    "### 9\n",
    "Here, we see that the number of used coefficients goes down from 10 all the way to 0 for different alphas, with the corresponding R squared error going from 0.5 to 0. alpha = 30, for which the number of used coefficients are 2, or alpha = 15 or 20, for which number of coefficients are 3, would be preferable as they minimise the error enough (to about 0.25) while not overfitting."
   ]
  },
  {
   "cell_type": "markdown",
   "id": "d2bd45fe",
   "metadata": {},
   "source": [
    "### 10 Param selection using cross-validation"
   ]
  },
  {
   "cell_type": "code",
   "execution_count": 71,
   "id": "35190f43",
   "metadata": {},
   "outputs": [
    {
     "data": {
      "text/plain": [
       "GridSearchCV(cv=5, estimator=Lasso(),\n",
       "             param_grid={'alpha': [1e-06, 1e-05, 0.0001, 0.001, 0.01, 0.1, 1,\n",
       "                                   10, 15, 20, 30, 40, 50],\n",
       "                         'max_iter': [100000]})"
      ]
     },
     "execution_count": 71,
     "metadata": {},
     "output_type": "execute_result"
    }
   ],
   "source": [
    "param_grid = {'alpha': [0.000001, 0.00001, 0.0001,0.001,0.01,0.1,1,10,15, 20, 30, 40, 50], 'max_iter': [100000]}\n",
    "from sklearn.model_selection import GridSearchCV\n",
    "grid_search = GridSearchCV(Lasso(), param_grid, cv = 5)\n",
    "grid_search.fit(X_train_scaled, y_train)"
   ]
  },
  {
   "cell_type": "code",
   "execution_count": 72,
   "id": "027b1024",
   "metadata": {},
   "outputs": [
    {
     "data": {
      "text/plain": [
       "0.49007071104495203"
      ]
     },
     "execution_count": 72,
     "metadata": {},
     "output_type": "execute_result"
    }
   ],
   "source": [
    "grid_search.score(X_test_scaled, y_test)"
   ]
  },
  {
   "cell_type": "code",
   "execution_count": 73,
   "id": "18b018b0",
   "metadata": {},
   "outputs": [
    {
     "data": {
      "text/plain": [
       "Lasso(alpha=1, max_iter=100000)"
      ]
     },
     "execution_count": 73,
     "metadata": {},
     "output_type": "execute_result"
    }
   ],
   "source": [
    "grid_search.best_estimator_"
   ]
  },
  {
   "cell_type": "code",
   "execution_count": 74,
   "id": "af82cb73",
   "metadata": {},
   "outputs": [
    {
     "data": {
      "text/plain": [
       "0.47111670499038694"
      ]
     },
     "execution_count": 74,
     "metadata": {},
     "output_type": "execute_result"
    }
   ],
   "source": [
    "grid_search.best_score_"
   ]
  },
  {
   "cell_type": "code",
   "execution_count": 75,
   "id": "6de3ce43",
   "metadata": {},
   "outputs": [
    {
     "data": {
      "text/plain": [
       "{'alpha': 1, 'max_iter': 100000}"
      ]
     },
     "execution_count": 75,
     "metadata": {},
     "output_type": "execute_result"
    }
   ],
   "source": [
    "grid_search.best_params_"
   ]
  },
  {
   "cell_type": "markdown",
   "id": "22ccf757",
   "metadata": {},
   "source": [
    "As we can see, the cross-validation gives us the best result at alpha = 1 with the test score of 0.49. The score that we got in item 9 might either be because of accident since there was no cross-validation, or because it was overfit. "
   ]
  },
  {
   "cell_type": "markdown",
   "id": "eade9dc9",
   "metadata": {},
   "source": [
    "### 11 Inductive Conformal Predictor\n",
    "Now let us implement an inductive conformal predictor based on Lasso by dividing the training set we got in step 5 into a training set proper and a calibration set"
   ]
  },
  {
   "cell_type": "code",
   "execution_count": 77,
   "id": "c4fc6f30",
   "metadata": {},
   "outputs": [],
   "source": [
    "X_train_proper, X_cal, y_train_proper, y_cal = train_test_split(X_train, y_train, test_size=99, random_state=307)"
   ]
  },
  {
   "cell_type": "code",
   "execution_count": 78,
   "id": "e8f01a08",
   "metadata": {},
   "outputs": [
    {
     "data": {
      "text/plain": [
       "(99, 10)"
      ]
     },
     "execution_count": 78,
     "metadata": {},
     "output_type": "execute_result"
    }
   ],
   "source": [
    "X_cal.shape"
   ]
  },
  {
   "cell_type": "markdown",
   "id": "2e801a6c",
   "metadata": {},
   "source": [
    "Let us first fit the StandardScaler to the training set proper"
   ]
  },
  {
   "cell_type": "markdown",
   "id": "722fbeab",
   "metadata": {},
   "source": [
    "scaler.fit(X_train_proper)"
   ]
  },
  {
   "cell_type": "markdown",
   "id": "b1176ede",
   "metadata": {},
   "source": [
    "Now let us scale the training set proper, calibration set, and test set based on this fit"
   ]
  },
  {
   "cell_type": "code",
   "execution_count": 80,
   "id": "e0b86964",
   "metadata": {},
   "outputs": [],
   "source": [
    "X_train_proper_scaled = scaler.transform(X_train_proper)\n",
    "X_cal_scaled = scaler.transform(X_cal)\n",
    "X_test_scaled = scaler.transform(X_test)"
   ]
  },
  {
   "cell_type": "code",
   "execution_count": 81,
   "id": "dcdf004d",
   "metadata": {},
   "outputs": [],
   "source": [
    "grid_search_conformal = GridSearchCV(Lasso(), param_grid, cv = 5)"
   ]
  },
  {
   "cell_type": "markdown",
   "id": "65e6121c",
   "metadata": {},
   "source": [
    "We'll use GridSearchCV and fit it to the training set proper"
   ]
  },
  {
   "cell_type": "code",
   "execution_count": 82,
   "id": "4546b11b",
   "metadata": {},
   "outputs": [
    {
     "data": {
      "text/plain": [
       "GridSearchCV(cv=5, estimator=Lasso(),\n",
       "             param_grid={'alpha': [1e-06, 1e-05, 0.0001, 0.001, 0.01, 0.1, 1,\n",
       "                                   10, 15, 20, 30, 40, 50],\n",
       "                         'max_iter': [100000]})"
      ]
     },
     "execution_count": 82,
     "metadata": {},
     "output_type": "execute_result"
    }
   ],
   "source": [
    "grid_search_conformal.fit(X_train_proper_scaled, y_train_proper)"
   ]
  },
  {
   "cell_type": "markdown",
   "id": "963bcc37",
   "metadata": {},
   "source": [
    "Now let us get the predictions for the calibration set based on this lasso. i.e, y hat"
   ]
  },
  {
   "cell_type": "code",
   "execution_count": 83,
   "id": "a0358aa4",
   "metadata": {},
   "outputs": [],
   "source": [
    "cal_predictions = grid_search.predict(X_cal_scaled)"
   ]
  },
  {
   "cell_type": "code",
   "execution_count": 84,
   "id": "64bd2889",
   "metadata": {},
   "outputs": [
    {
     "data": {
      "text/plain": [
       "array([151.23295369, 219.58465909, 215.8813095 , 142.25922911,\n",
       "       107.13334653,  65.04396185, 146.37201843, 155.92509467,\n",
       "       126.76597211, 162.05119461, 122.7368154 ,  86.81228883,\n",
       "       184.95826597,  41.8313076 , 117.11174947,  62.72754671,\n",
       "       218.6643225 , 265.45620525, 249.18790427,  77.40800695,\n",
       "       188.19912327, 202.23468317, 262.45722   , 261.13951468,\n",
       "       174.72316058, 126.19376632, 220.55171971, 128.35049031,\n",
       "       203.51136369, 117.81516094, 280.07881095, 100.9235782 ,\n",
       "        54.6853528 , 139.22181447,  56.24088887, 284.32135025,\n",
       "       200.74407409,  72.51137888, 180.00347625, 156.71946583,\n",
       "       259.95611428, 188.65307429, 165.77607668, 122.8743461 ,\n",
       "       216.38010737, 165.41962805,  90.28543004, 206.49244366,\n",
       "        69.66124195, 251.62064302, 124.88658926, 173.46992247,\n",
       "        94.663204  ,  72.16486958, 213.14891474,  71.58888368,\n",
       "       270.76040473, 207.42579534, 155.24483951, 193.60980522,\n",
       "       189.51350834, 142.12564344, 225.0255382 ,  74.94357942,\n",
       "       166.99802333, 142.41192775, 176.325631  , 165.66439378,\n",
       "       110.33123646,  68.11874619, 119.73731226,  49.89897247,\n",
       "       235.01377481, 103.78505708, 168.80603226,  72.14830746,\n",
       "        61.55077087, 176.35960641, 197.59670589, 116.71970955,\n",
       "       179.07148456, 185.10011561, 132.87707266, 156.04442025,\n",
       "       144.54917751, 231.70777738, 249.38059458, 240.84491837,\n",
       "       177.05163616, 133.22911054,  95.64223357, 132.22734979,\n",
       "       137.54109226, 140.12572767, 166.91022397, 153.99688095,\n",
       "       106.7705334 ,  94.99509523,  49.30016057])"
      ]
     },
     "execution_count": 84,
     "metadata": {},
     "output_type": "execute_result"
    }
   ],
   "source": [
    "cal_predictions"
   ]
  },
  {
   "cell_type": "markdown",
   "id": "5875e9a1",
   "metadata": {},
   "source": [
    "Let us find the alpha_i nonconformity scores for the calibration set"
   ]
  },
  {
   "cell_type": "code",
   "execution_count": 86,
   "id": "751c8051",
   "metadata": {},
   "outputs": [],
   "source": [
    "alpha_i = np.absolute(y_cal - cal_predictions)"
   ]
  },
  {
   "cell_type": "code",
   "execution_count": 92,
   "id": "0d09bf3e",
   "metadata": {},
   "outputs": [],
   "source": [
    "alpha_i_sorted = np.sort(alpha_i)"
   ]
  },
  {
   "cell_type": "code",
   "execution_count": 89,
   "id": "931cb98d",
   "metadata": {},
   "outputs": [
    {
     "data": {
      "text/plain": [
       "99"
      ]
     },
     "execution_count": 89,
     "metadata": {},
     "output_type": "execute_result"
    }
   ],
   "source": [
    "m = len(alpha_i)\n",
    "m"
   ]
  },
  {
   "cell_type": "markdown",
   "id": "c72f2adc",
   "metadata": {},
   "source": [
    "For ε = 0.05, k = ceil((1-0.05)(99+1)) = 95 "
   ]
  },
  {
   "cell_type": "code",
   "execution_count": 99,
   "id": "09e868e7",
   "metadata": {},
   "outputs": [],
   "source": [
    "k = 95\n",
    "c_5 = alpha_i_sorted[k-1]"
   ]
  },
  {
   "cell_type": "code",
   "execution_count": 100,
   "id": "4b0421ff",
   "metadata": {},
   "outputs": [
    {
     "data": {
      "text/plain": [
       "88.77607667623496"
      ]
     },
     "execution_count": 100,
     "metadata": {},
     "output_type": "execute_result"
    }
   ],
   "source": [
    "c_5"
   ]
  },
  {
   "cell_type": "markdown",
   "id": "fbedb777",
   "metadata": {},
   "source": [
    "Here, we found c as the 95th conformity score (since indexing starts from 0)"
   ]
  },
  {
   "cell_type": "markdown",
   "id": "f0ee09e4",
   "metadata": {},
   "source": [
    "The length of prediction intervals for ε = 0.05 will be 2c = 2 * 88.78 = 177.56"
   ]
  },
  {
   "cell_type": "markdown",
   "id": "7aaac4e2",
   "metadata": {},
   "source": [
    "For the 20% prediction interval, ε = 0.2, thus, k = ceil((1-0.2)(99+1)) = 80"
   ]
  },
  {
   "cell_type": "code",
   "execution_count": 101,
   "id": "93443679",
   "metadata": {},
   "outputs": [
    {
     "data": {
      "text/plain": [
       "63.00490477472586"
      ]
     },
     "execution_count": 101,
     "metadata": {},
     "output_type": "execute_result"
    }
   ],
   "source": [
    "k = 80\n",
    "c_20 = alpha_i_sorted[k-1]\n",
    "c_20"
   ]
  },
  {
   "cell_type": "markdown",
   "id": "211d5c7c",
   "metadata": {},
   "source": [
    "For the 20% prediction interval, the length of the interval is 2 * c = 2 * 63 = 126"
   ]
  },
  {
   "cell_type": "markdown",
   "id": "78e5420c",
   "metadata": {},
   "source": [
    "Now, to find the test error rate for our conformal predictor, let us first find the predicted labels for the test set:"
   ]
  },
  {
   "cell_type": "code",
   "execution_count": 102,
   "id": "02ce249f",
   "metadata": {},
   "outputs": [],
   "source": [
    "test_predictions = grid_search_conformal.predict(X_test_scaled)"
   ]
  },
  {
   "cell_type": "markdown",
   "id": "4796b081",
   "metadata": {},
   "source": [
    "For these predictions, we'll go through each prediction, calculate the prediction interval, and see if the actual label lies inside this interval. We'll count the fraction of predictions that don't lie inside their prediction interval to get the error rate."
   ]
  },
  {
   "cell_type": "code",
   "execution_count": 106,
   "id": "4c10c281",
   "metadata": {},
   "outputs": [
    {
     "name": "stdout",
     "output_type": "stream",
     "text": [
      "error count for 20% is 30\n",
      "error count for 5% is 12\n"
     ]
    }
   ],
   "source": [
    "error_count_5 = 0\n",
    "error_count_20 = 0\n",
    "for i in range(len(test_predictions)):\n",
    "    prediction = test_predictions[i]\n",
    "    if(y_test[i] < prediction - c_5 or y_test[i] > prediction + c_5):\n",
    "        error_count_5 += 1\n",
    "    if(y_test[i] < prediction - c_20 or y_test[i] > prediction + c_20):\n",
    "        error_count_20 += 1\n",
    "print(\"error count for 20% is\",error_count_20)\n",
    "print(\"error count for 5% is\",error_count_5)"
   ]
  },
  {
   "cell_type": "code",
   "execution_count": 108,
   "id": "b8e867a4",
   "metadata": {},
   "outputs": [
    {
     "name": "stdout",
     "output_type": "stream",
     "text": [
      "The error rate for 20% is 0.2702702702702703\n",
      "The error rate for 5% is 0.10810810810810811\n"
     ]
    }
   ],
   "source": [
    "error_rate_20 = error_count_20 / len(test_predictions)\n",
    "error_rate_5 = error_count_5 / len(test_predictions)\n",
    "print(\"The error rate for 20% is\", error_rate_20)\n",
    "print(\"The error rate for 5% is\", error_rate_5)"
   ]
  },
  {
   "cell_type": "markdown",
   "id": "f1004a6a",
   "metadata": {},
   "source": [
    "As we can see, the error rate for the 20% prediction interval is 0.27, while the error rate for 5% prediction interval is 0.11, as we would expect."
   ]
  },
  {
   "cell_type": "code",
   "execution_count": null,
   "id": "823ea594",
   "metadata": {},
   "outputs": [],
   "source": []
  }
 ],
 "metadata": {
  "kernelspec": {
   "display_name": "Python 3 (ipykernel)",
   "language": "python",
   "name": "python3"
  },
  "language_info": {
   "codemirror_mode": {
    "name": "ipython",
    "version": 3
   },
   "file_extension": ".py",
   "mimetype": "text/x-python",
   "name": "python",
   "nbconvert_exporter": "python",
   "pygments_lexer": "ipython3",
   "version": "3.8.11"
  }
 },
 "nbformat": 4,
 "nbformat_minor": 5
}
