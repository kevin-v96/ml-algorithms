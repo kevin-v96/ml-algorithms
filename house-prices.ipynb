{
 "cells": [
  {
   "cell_type": "code",
   "execution_count": 1,
   "id": "e364382c",
   "metadata": {
    "_cell_guid": "b1076dfc-b9ad-4769-8c92-a6c4dae69d19",
    "_uuid": "8f2839f25d086af736a60e9eeb907d3b93b6e0e5",
    "execution": {
     "iopub.execute_input": "2022-06-07T02:03:42.160273Z",
     "iopub.status.busy": "2022-06-07T02:03:42.159432Z",
     "iopub.status.idle": "2022-06-07T02:03:42.175188Z",
     "shell.execute_reply": "2022-06-07T02:03:42.174488Z"
    },
    "papermill": {
     "duration": 0.027578,
     "end_time": "2022-06-07T02:03:42.179440",
     "exception": false,
     "start_time": "2022-06-07T02:03:42.151862",
     "status": "completed"
    },
    "tags": []
   },
   "outputs": [
    {
     "name": "stdout",
     "output_type": "stream",
     "text": [
      "/kaggle/input/house-prices-advanced-regression-techniques/sample_submission.csv\n",
      "/kaggle/input/house-prices-advanced-regression-techniques/data_description.txt\n",
      "/kaggle/input/house-prices-advanced-regression-techniques/train.csv\n",
      "/kaggle/input/house-prices-advanced-regression-techniques/test.csv\n"
     ]
    }
   ],
   "source": [
    "# This Python 3 environment comes with many helpful analytics libraries installed\n",
    "# It is defined by the kaggle/python Docker image: https://github.com/kaggle/docker-python\n",
    "# For example, here's several helpful packages to load\n",
    "\n",
    "import numpy as np # linear algebra\n",
    "import pandas as pd # data processing, CSV file I/O (e.g. pd.read_csv)\n",
    "\n",
    "# Input data files are available in the read-only \"../input/\" directory\n",
    "# For example, running this (by clicking run or pressing Shift+Enter) will list all files under the input directory\n",
    "\n",
    "import os\n",
    "for dirname, _, filenames in os.walk('/kaggle/input'):\n",
    "    for filename in filenames:\n",
    "        print(os.path.join(dirname, filename))\n",
    "\n",
    "# You can write up to 20GB to the current directory (/kaggle/working/) that gets preserved as output when you create a version using \"Save & Run All\" \n",
    "# You can also write temporary files to /kaggle/temp/, but they won't be saved outside of the current session"
   ]
  },
  {
   "cell_type": "code",
   "execution_count": 2,
   "id": "da848f05",
   "metadata": {
    "execution": {
     "iopub.execute_input": "2022-06-07T02:03:42.190861Z",
     "iopub.status.busy": "2022-06-07T02:03:42.190453Z",
     "iopub.status.idle": "2022-06-07T02:03:43.500070Z",
     "shell.execute_reply": "2022-06-07T02:03:43.499180Z"
    },
    "papermill": {
     "duration": 1.317958,
     "end_time": "2022-06-07T02:03:43.502363",
     "exception": false,
     "start_time": "2022-06-07T02:03:42.184405",
     "status": "completed"
    },
    "tags": []
   },
   "outputs": [],
   "source": [
    "from sklearn.model_selection import train_test_split    # Splits arrays or matrices into random train and test subsets\n",
    "from sklearn.model_selection import KFold               # Cross-validator\n",
    "from sklearn.model_selection import cross_validate      # Evaluate metrics by cross-validation\n",
    "from sklearn.model_selection import GridSearchCV        # Search over specified parameter values for an estimator\n",
    "from sklearn.compose import ColumnTransformer           # Applies transformers to columns of DataFrames\n",
    "from sklearn.pipeline import Pipeline                   # Helps building a chain of transforms and estimators\n",
    "from sklearn.impute import SimpleImputer                # Imputation transformer for completing missing values\n",
    "from sklearn.preprocessing import OneHotEncoder         # Encode categorical features\n",
    "from sklearn.metrics import mean_absolute_error, mean_squared_error         # One of many statistical measures of error\n",
    "from xgboost import XGBRegressor"
   ]
  },
  {
   "cell_type": "code",
   "execution_count": 3,
   "id": "6d303bb4",
   "metadata": {
    "execution": {
     "iopub.execute_input": "2022-06-07T02:03:43.514395Z",
     "iopub.status.busy": "2022-06-07T02:03:43.513303Z",
     "iopub.status.idle": "2022-06-07T02:03:43.590651Z",
     "shell.execute_reply": "2022-06-07T02:03:43.589754Z"
    },
    "papermill": {
     "duration": 0.085748,
     "end_time": "2022-06-07T02:03:43.592964",
     "exception": false,
     "start_time": "2022-06-07T02:03:43.507216",
     "status": "completed"
    },
    "tags": []
   },
   "outputs": [],
   "source": [
    "training_set = pd.read_csv('../input/house-prices-advanced-regression-techniques/train.csv', keep_default_na = False, na_values = ['-1.#IND', '1.#QNAN', '1.#IND', '-1.#QNAN', '#N/A N/A', '#N/A', 'N/A', 'n/a', '', '#NA', 'NULL', 'null', 'NaN', '-NaN', 'nan', '-nan', ''])\n",
    "test_set = pd.read_csv('../input/house-prices-advanced-regression-techniques/test.csv', keep_default_na = False, na_values = ['-1.#IND', '1.#QNAN', '1.#IND', '-1.#QNAN', '#N/A N/A', '#N/A', 'N/A', 'n/a', '', '#NA', 'NULL', 'null', 'NaN', '-NaN', 'nan', '-nan', ''])"
   ]
  },
  {
   "cell_type": "code",
   "execution_count": 4,
   "id": "c04d1007",
   "metadata": {
    "execution": {
     "iopub.execute_input": "2022-06-07T02:03:43.604449Z",
     "iopub.status.busy": "2022-06-07T02:03:43.604078Z",
     "iopub.status.idle": "2022-06-07T02:03:43.620589Z",
     "shell.execute_reply": "2022-06-07T02:03:43.619867Z"
    },
    "papermill": {
     "duration": 0.024551,
     "end_time": "2022-06-07T02:03:43.622693",
     "exception": false,
     "start_time": "2022-06-07T02:03:43.598142",
     "status": "completed"
    },
    "tags": []
   },
   "outputs": [],
   "source": [
    "X = training_set.copy()\n",
    "y = X.SalePrice\n",
    "X.drop(['SalePrice'], axis = 1, inplace = True)"
   ]
  },
  {
   "cell_type": "code",
   "execution_count": 5,
   "id": "bfa64ec3",
   "metadata": {
    "execution": {
     "iopub.execute_input": "2022-06-07T02:03:43.633981Z",
     "iopub.status.busy": "2022-06-07T02:03:43.633588Z",
     "iopub.status.idle": "2022-06-07T02:03:43.641434Z",
     "shell.execute_reply": "2022-06-07T02:03:43.640200Z"
    },
    "papermill": {
     "duration": 0.015868,
     "end_time": "2022-06-07T02:03:43.643446",
     "exception": false,
     "start_time": "2022-06-07T02:03:43.627578",
     "status": "completed"
    },
    "tags": []
   },
   "outputs": [
    {
     "name": "stdout",
     "output_type": "stream",
     "text": [
      "(1460, 80)\n",
      "(1460,)\n",
      "(1459, 80)\n"
     ]
    }
   ],
   "source": [
    "X_test = test_set.copy()\n",
    "print(X.shape)\n",
    "print(y.shape)\n",
    "print(X_test.shape)"
   ]
  },
  {
   "cell_type": "code",
   "execution_count": 6,
   "id": "37a222df",
   "metadata": {
    "execution": {
     "iopub.execute_input": "2022-06-07T02:03:43.654584Z",
     "iopub.status.busy": "2022-06-07T02:03:43.653852Z",
     "iopub.status.idle": "2022-06-07T02:03:43.668649Z",
     "shell.execute_reply": "2022-06-07T02:03:43.667718Z"
    },
    "papermill": {
     "duration": 0.022583,
     "end_time": "2022-06-07T02:03:43.670901",
     "exception": false,
     "start_time": "2022-06-07T02:03:43.648318",
     "status": "completed"
    },
    "tags": []
   },
   "outputs": [
    {
     "name": "stdout",
     "output_type": "stream",
     "text": [
      "Series([], dtype: int64)\n"
     ]
    }
   ],
   "source": [
    "missing_values = X.isnull().sum()\n",
    "missing_values = missing_values[missing_values > 0].sort_values(ascending=False)\n",
    "print(missing_values)"
   ]
  },
  {
   "cell_type": "code",
   "execution_count": 7,
   "id": "04d79e76",
   "metadata": {
    "execution": {
     "iopub.execute_input": "2022-06-07T02:03:43.682973Z",
     "iopub.status.busy": "2022-06-07T02:03:43.682345Z",
     "iopub.status.idle": "2022-06-07T02:03:43.713125Z",
     "shell.execute_reply": "2022-06-07T02:03:43.712024Z"
    },
    "papermill": {
     "duration": 0.040074,
     "end_time": "2022-06-07T02:03:43.716083",
     "exception": false,
     "start_time": "2022-06-07T02:03:43.676009",
     "status": "completed"
    },
    "tags": []
   },
   "outputs": [
    {
     "name": "stdout",
     "output_type": "stream",
     "text": [
      "<class 'pandas.core.frame.DataFrame'>\n",
      "RangeIndex: 1460 entries, 0 to 1459\n",
      "Data columns (total 80 columns):\n",
      " #   Column         Non-Null Count  Dtype \n",
      "---  ------         --------------  ----- \n",
      " 0   Id             1460 non-null   int64 \n",
      " 1   MSSubClass     1460 non-null   int64 \n",
      " 2   MSZoning       1460 non-null   object\n",
      " 3   LotFrontage    1460 non-null   object\n",
      " 4   LotArea        1460 non-null   int64 \n",
      " 5   Street         1460 non-null   object\n",
      " 6   Alley          1460 non-null   object\n",
      " 7   LotShape       1460 non-null   object\n",
      " 8   LandContour    1460 non-null   object\n",
      " 9   Utilities      1460 non-null   object\n",
      " 10  LotConfig      1460 non-null   object\n",
      " 11  LandSlope      1460 non-null   object\n",
      " 12  Neighborhood   1460 non-null   object\n",
      " 13  Condition1     1460 non-null   object\n",
      " 14  Condition2     1460 non-null   object\n",
      " 15  BldgType       1460 non-null   object\n",
      " 16  HouseStyle     1460 non-null   object\n",
      " 17  OverallQual    1460 non-null   int64 \n",
      " 18  OverallCond    1460 non-null   int64 \n",
      " 19  YearBuilt      1460 non-null   int64 \n",
      " 20  YearRemodAdd   1460 non-null   int64 \n",
      " 21  RoofStyle      1460 non-null   object\n",
      " 22  RoofMatl       1460 non-null   object\n",
      " 23  Exterior1st    1460 non-null   object\n",
      " 24  Exterior2nd    1460 non-null   object\n",
      " 25  MasVnrType     1460 non-null   object\n",
      " 26  MasVnrArea     1460 non-null   object\n",
      " 27  ExterQual      1460 non-null   object\n",
      " 28  ExterCond      1460 non-null   object\n",
      " 29  Foundation     1460 non-null   object\n",
      " 30  BsmtQual       1460 non-null   object\n",
      " 31  BsmtCond       1460 non-null   object\n",
      " 32  BsmtExposure   1460 non-null   object\n",
      " 33  BsmtFinType1   1460 non-null   object\n",
      " 34  BsmtFinSF1     1460 non-null   int64 \n",
      " 35  BsmtFinType2   1460 non-null   object\n",
      " 36  BsmtFinSF2     1460 non-null   int64 \n",
      " 37  BsmtUnfSF      1460 non-null   int64 \n",
      " 38  TotalBsmtSF    1460 non-null   int64 \n",
      " 39  Heating        1460 non-null   object\n",
      " 40  HeatingQC      1460 non-null   object\n",
      " 41  CentralAir     1460 non-null   object\n",
      " 42  Electrical     1460 non-null   object\n",
      " 43  1stFlrSF       1460 non-null   int64 \n",
      " 44  2ndFlrSF       1460 non-null   int64 \n",
      " 45  LowQualFinSF   1460 non-null   int64 \n",
      " 46  GrLivArea      1460 non-null   int64 \n",
      " 47  BsmtFullBath   1460 non-null   int64 \n",
      " 48  BsmtHalfBath   1460 non-null   int64 \n",
      " 49  FullBath       1460 non-null   int64 \n",
      " 50  HalfBath       1460 non-null   int64 \n",
      " 51  BedroomAbvGr   1460 non-null   int64 \n",
      " 52  KitchenAbvGr   1460 non-null   int64 \n",
      " 53  KitchenQual    1460 non-null   object\n",
      " 54  TotRmsAbvGrd   1460 non-null   int64 \n",
      " 55  Functional     1460 non-null   object\n",
      " 56  Fireplaces     1460 non-null   int64 \n",
      " 57  FireplaceQu    1460 non-null   object\n",
      " 58  GarageType     1460 non-null   object\n",
      " 59  GarageYrBlt    1460 non-null   object\n",
      " 60  GarageFinish   1460 non-null   object\n",
      " 61  GarageCars     1460 non-null   int64 \n",
      " 62  GarageArea     1460 non-null   int64 \n",
      " 63  GarageQual     1460 non-null   object\n",
      " 64  GarageCond     1460 non-null   object\n",
      " 65  PavedDrive     1460 non-null   object\n",
      " 66  WoodDeckSF     1460 non-null   int64 \n",
      " 67  OpenPorchSF    1460 non-null   int64 \n",
      " 68  EnclosedPorch  1460 non-null   int64 \n",
      " 69  3SsnPorch      1460 non-null   int64 \n",
      " 70  ScreenPorch    1460 non-null   int64 \n",
      " 71  PoolArea       1460 non-null   int64 \n",
      " 72  PoolQC         1460 non-null   object\n",
      " 73  Fence          1460 non-null   object\n",
      " 74  MiscFeature    1460 non-null   object\n",
      " 75  MiscVal        1460 non-null   int64 \n",
      " 76  MoSold         1460 non-null   int64 \n",
      " 77  YrSold         1460 non-null   int64 \n",
      " 78  SaleType       1460 non-null   object\n",
      " 79  SaleCondition  1460 non-null   object\n",
      "dtypes: int64(34), object(46)\n",
      "memory usage: 912.6+ KB\n"
     ]
    }
   ],
   "source": [
    "X.info()"
   ]
  },
  {
   "cell_type": "code",
   "execution_count": 8,
   "id": "9e8ff6d1",
   "metadata": {
    "execution": {
     "iopub.execute_input": "2022-06-07T02:03:43.729060Z",
     "iopub.status.busy": "2022-06-07T02:03:43.728083Z",
     "iopub.status.idle": "2022-06-07T02:03:43.736273Z",
     "shell.execute_reply": "2022-06-07T02:03:43.735510Z"
    },
    "papermill": {
     "duration": 0.016422,
     "end_time": "2022-06-07T02:03:43.738302",
     "exception": false,
     "start_time": "2022-06-07T02:03:43.721880",
     "status": "completed"
    },
    "tags": []
   },
   "outputs": [],
   "source": [
    "X_train_full, X_valid_full, y_train, y_valid = train_test_split(X, y, random_state = 0)"
   ]
  },
  {
   "cell_type": "code",
   "execution_count": 9,
   "id": "5dde41d0",
   "metadata": {
    "execution": {
     "iopub.execute_input": "2022-06-07T02:03:43.750446Z",
     "iopub.status.busy": "2022-06-07T02:03:43.749866Z",
     "iopub.status.idle": "2022-06-07T02:03:43.778717Z",
     "shell.execute_reply": "2022-06-07T02:03:43.777814Z"
    },
    "papermill": {
     "duration": 0.037575,
     "end_time": "2022-06-07T02:03:43.781076",
     "exception": false,
     "start_time": "2022-06-07T02:03:43.743501",
     "status": "completed"
    },
    "tags": []
   },
   "outputs": [],
   "source": [
    "categorical_cols = [col for col in X_train_full.columns if \n",
    "                   X_train_full[col].nunique() <= 15 and\n",
    "                   X_train_full[col].dtype == 'object']\n",
    "\n",
    "numeric_cols = [col for col in X_train_full.columns if \n",
    "               X_train_full[col].dtype in ['int64', 'float64']]\n",
    "\n",
    "my_columns = categorical_cols + numeric_cols\n",
    "X_train = X_train_full[my_columns].copy()\n",
    "X_valid = X_valid_full[my_columns].copy()\n",
    "X_test = X_test[my_columns].copy()"
   ]
  },
  {
   "cell_type": "code",
   "execution_count": 10,
   "id": "b4e95156",
   "metadata": {
    "execution": {
     "iopub.execute_input": "2022-06-07T02:03:43.792687Z",
     "iopub.status.busy": "2022-06-07T02:03:43.792322Z",
     "iopub.status.idle": "2022-06-07T02:03:43.797972Z",
     "shell.execute_reply": "2022-06-07T02:03:43.797078Z"
    },
    "papermill": {
     "duration": 0.013641,
     "end_time": "2022-06-07T02:03:43.799895",
     "exception": false,
     "start_time": "2022-06-07T02:03:43.786254",
     "status": "completed"
    },
    "tags": []
   },
   "outputs": [],
   "source": [
    "numerical_transformer = SimpleImputer(strategy = 'mean')\n",
    "categorical_transformer = Pipeline(steps = [\n",
    "    ('imputer', SimpleImputer(strategy = 'constant',fill_value = 'NA')),\n",
    "    ('onehot', OneHotEncoder(handle_unknown = 'ignore'))\n",
    "])\n",
    "\n",
    "preprocessor = ColumnTransformer(transformers=[\n",
    "    ('cat', categorical_transformer, categorical_cols)\n",
    "])"
   ]
  },
  {
   "cell_type": "code",
   "execution_count": 11,
   "id": "9579edbf",
   "metadata": {
    "execution": {
     "iopub.execute_input": "2022-06-07T02:03:43.812152Z",
     "iopub.status.busy": "2022-06-07T02:03:43.811340Z",
     "iopub.status.idle": "2022-06-07T02:03:44.388952Z",
     "shell.execute_reply": "2022-06-07T02:03:44.387620Z"
    },
    "papermill": {
     "duration": 0.587008,
     "end_time": "2022-06-07T02:03:44.392344",
     "exception": false,
     "start_time": "2022-06-07T02:03:43.805336",
     "status": "completed"
    },
    "tags": []
   },
   "outputs": [
    {
     "name": "stdout",
     "output_type": "stream",
     "text": [
      "XGB Score: 0.7467378303274879\n"
     ]
    }
   ],
   "source": [
    "model = XGBRegressor(verbosity = 0, random_state = 0)\n",
    "\n",
    "my_pipeline_xgb = Pipeline(steps = [\n",
    "    ('preprocessor', preprocessor),\n",
    "    ('model', model)\n",
    "])\n",
    "\n",
    "my_pipeline_xgb.fit(X_train, y_train)\n",
    "preds = my_pipeline_xgb.predict(X_valid)\n",
    "print(\"XGB Score:\", my_pipeline_xgb.score(X_valid, y_valid))"
   ]
  },
  {
   "cell_type": "code",
   "execution_count": 12,
   "id": "a9e15ec2",
   "metadata": {
    "execution": {
     "iopub.execute_input": "2022-06-07T02:03:44.406879Z",
     "iopub.status.busy": "2022-06-07T02:03:44.406137Z",
     "iopub.status.idle": "2022-06-07T02:03:49.139054Z",
     "shell.execute_reply": "2022-06-07T02:03:49.137884Z"
    },
    "papermill": {
     "duration": 4.742519,
     "end_time": "2022-06-07T02:03:49.141738",
     "exception": false,
     "start_time": "2022-06-07T02:03:44.399219",
     "status": "completed"
    },
    "tags": []
   },
   "outputs": [
    {
     "name": "stdout",
     "output_type": "stream",
     "text": [
      "RF Score: 0.7024350584874632\n"
     ]
    }
   ],
   "source": [
    "from sklearn.ensemble import RandomForestRegressor\n",
    "model_RFR = RandomForestRegressor(random_state = 0)\n",
    "\n",
    "my_pipeline_RFR = Pipeline(steps = [\n",
    "    ('preprocessor', preprocessor),\n",
    "    ('model', model_RFR)\n",
    "])\n",
    "\n",
    "my_pipeline_RFR.fit(X_train, y_train)\n",
    "preds = my_pipeline_RFR.predict(X_valid)\n",
    "print(\"RF Score:\", my_pipeline_RFR.score(X_valid, y_valid))"
   ]
  },
  {
   "cell_type": "code",
   "execution_count": 13,
   "id": "dac3d679",
   "metadata": {
    "execution": {
     "iopub.execute_input": "2022-06-07T02:03:49.155057Z",
     "iopub.status.busy": "2022-06-07T02:03:49.154492Z",
     "iopub.status.idle": "2022-06-07T02:03:49.811063Z",
     "shell.execute_reply": "2022-06-07T02:03:49.810109Z"
    },
    "papermill": {
     "duration": 0.665637,
     "end_time": "2022-06-07T02:03:49.813632",
     "exception": false,
     "start_time": "2022-06-07T02:03:49.147995",
     "status": "completed"
    },
    "tags": []
   },
   "outputs": [],
   "source": [
    "final_model = model\n",
    "final_pipeline = Pipeline(steps = [\n",
    "    ('preprocessor', preprocessor),\n",
    "    ('model', final_model)\n",
    "])\n",
    "\n",
    "X_train = training_set.copy()\n",
    "y_train = X_train.SalePrice\n",
    "X_train.drop(['SalePrice'], axis = 1, inplace = True)\n",
    "\n",
    "final_pipeline.fit(X_train, y_train)\n",
    "\n",
    "final_prediction = final_pipeline.predict(X_test)\n",
    "\n",
    "output = pd.DataFrame({\n",
    "    'Id': X_test.Id,\n",
    "    'SalePrice': final_prediction\n",
    "})\n",
    "output.to_csv('submission.csv', index = False)"
   ]
  },
  {
   "cell_type": "code",
   "execution_count": 14,
   "id": "bc9cbb75",
   "metadata": {
    "execution": {
     "iopub.execute_input": "2022-06-07T02:03:49.829043Z",
     "iopub.status.busy": "2022-06-07T02:03:49.828128Z",
     "iopub.status.idle": "2022-06-07T02:03:49.833421Z",
     "shell.execute_reply": "2022-06-07T02:03:49.832765Z"
    },
    "papermill": {
     "duration": 0.014414,
     "end_time": "2022-06-07T02:03:49.835877",
     "exception": false,
     "start_time": "2022-06-07T02:03:49.821463",
     "status": "completed"
    },
    "tags": []
   },
   "outputs": [
    {
     "name": "stdout",
     "output_type": "stream",
     "text": [
      "(1460, 80)\n",
      "(1460,)\n",
      "(1459, 75)\n"
     ]
    }
   ],
   "source": [
    "print(X_train.shape)\n",
    "print(y_train.shape)\n",
    "print(X_test.shape)"
   ]
  },
  {
   "cell_type": "code",
   "execution_count": null,
   "id": "925fb824",
   "metadata": {
    "papermill": {
     "duration": 0.005112,
     "end_time": "2022-06-07T02:03:49.846675",
     "exception": false,
     "start_time": "2022-06-07T02:03:49.841563",
     "status": "completed"
    },
    "tags": []
   },
   "outputs": [],
   "source": []
  }
 ],
 "metadata": {
  "kernelspec": {
   "display_name": "Python 3",
   "language": "python",
   "name": "python3"
  },
  "language_info": {
   "codemirror_mode": {
    "name": "ipython",
    "version": 3
   },
   "file_extension": ".py",
   "mimetype": "text/x-python",
   "name": "python",
   "nbconvert_exporter": "python",
   "pygments_lexer": "ipython3",
   "version": "3.7.12"
  },
  "papermill": {
   "default_parameters": {},
   "duration": 18.146151,
   "end_time": "2022-06-07T02:03:50.572990",
   "environment_variables": {},
   "exception": null,
   "input_path": "__notebook__.ipynb",
   "output_path": "__notebook__.ipynb",
   "parameters": {},
   "start_time": "2022-06-07T02:03:32.426839",
   "version": "2.3.4"
  }
 },
 "nbformat": 4,
 "nbformat_minor": 5
}
