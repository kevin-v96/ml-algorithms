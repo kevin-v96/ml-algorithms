{
 "cells": [
  {
   "cell_type": "code",
   "execution_count": 1,
   "id": "4c4216e5",
   "metadata": {
    "_cell_guid": "b1076dfc-b9ad-4769-8c92-a6c4dae69d19",
    "_uuid": "8f2839f25d086af736a60e9eeb907d3b93b6e0e5",
    "execution": {
     "iopub.execute_input": "2022-06-07T02:03:55.746876Z",
     "iopub.status.busy": "2022-06-07T02:03:55.746146Z",
     "iopub.status.idle": "2022-06-07T02:03:55.760566Z",
     "shell.execute_reply": "2022-06-07T02:03:55.759571Z"
    },
    "papermill": {
     "duration": 0.029156,
     "end_time": "2022-06-07T02:03:55.762775",
     "exception": false,
     "start_time": "2022-06-07T02:03:55.733619",
     "status": "completed"
    },
    "tags": []
   },
   "outputs": [
    {
     "name": "stdout",
     "output_type": "stream",
     "text": [
      "/kaggle/input/titanic/train.csv\n",
      "/kaggle/input/titanic/test.csv\n",
      "/kaggle/input/titanic/gender_submission.csv\n"
     ]
    }
   ],
   "source": [
    "# This Python 3 environment comes with many helpful analytics libraries installed\n",
    "# It is defined by the kaggle/python Docker image: https://github.com/kaggle/docker-python\n",
    "# For example, here's several helpful packages to load\n",
    "\n",
    "import numpy as np # linear algebra\n",
    "import pandas as pd # data processing, CSV file I/O (e.g. pd.read_csv)\n",
    "\n",
    "# Input data files are available in the read-only \"../input/\" directory\n",
    "# For example, running this (by clicking run or pressing Shift+Enter) will list all files under the input directory\n",
    "\n",
    "import os\n",
    "for dirname, _, filenames in os.walk('/kaggle/input'):\n",
    "    for filename in filenames:\n",
    "        print(os.path.join(dirname, filename))\n",
    "\n",
    "# You can write up to 20GB to the current directory (/kaggle/working/) that gets preserved as output when you create a version using \"Save & Run All\" \n",
    "# You can also write temporary files to /kaggle/temp/, but they won't be saved outside of the current session"
   ]
  },
  {
   "cell_type": "code",
   "execution_count": 2,
   "id": "7d70c583",
   "metadata": {
    "execution": {
     "iopub.execute_input": "2022-06-07T02:03:55.777064Z",
     "iopub.status.busy": "2022-06-07T02:03:55.776627Z",
     "iopub.status.idle": "2022-06-07T02:03:57.178586Z",
     "shell.execute_reply": "2022-06-07T02:03:57.177641Z"
    },
    "papermill": {
     "duration": 1.411808,
     "end_time": "2022-06-07T02:03:57.180918",
     "exception": false,
     "start_time": "2022-06-07T02:03:55.769110",
     "status": "completed"
    },
    "tags": []
   },
   "outputs": [],
   "source": [
    "\n",
    "import pandas as pd                                     # Data analysis tool\n",
    "import numpy as np                                      # Package for scientific computing\n",
    "from sklearn.model_selection import train_test_split    # Splits arrays or matrices into random train and test subsets\n",
    "from sklearn.model_selection import KFold               # Cross-validator\n",
    "from sklearn.model_selection import cross_validate      # Evaluate metrics by cross-validation\n",
    "from sklearn.model_selection import GridSearchCV        # Search over specified parameter values for an estimator\n",
    "from sklearn.compose import ColumnTransformer           # Applies transformers to columns of DataFrames\n",
    "from sklearn.pipeline import Pipeline                   # Helps building a chain of transforms and estimators\n",
    "from sklearn.impute import SimpleImputer                # Imputation transformer for completing missing values\n",
    "from sklearn.preprocessing import OneHotEncoder         # Encode categorical features\n",
    "from sklearn.metrics import mean_absolute_error, mean_squared_error         # One of many statistical measures of error\n",
    "from xgboost import XGBRegressor"
   ]
  },
  {
   "cell_type": "code",
   "execution_count": 3,
   "id": "757097cd",
   "metadata": {
    "execution": {
     "iopub.execute_input": "2022-06-07T02:03:57.195569Z",
     "iopub.status.busy": "2022-06-07T02:03:57.195142Z",
     "iopub.status.idle": "2022-06-07T02:03:57.223719Z",
     "shell.execute_reply": "2022-06-07T02:03:57.222891Z"
    },
    "papermill": {
     "duration": 0.038818,
     "end_time": "2022-06-07T02:03:57.226087",
     "exception": false,
     "start_time": "2022-06-07T02:03:57.187269",
     "status": "completed"
    },
    "tags": []
   },
   "outputs": [],
   "source": [
    "training_set = pd.read_csv('../input/titanic/train.csv')\n",
    "test_set = pd.read_csv('../input/titanic/test.csv')"
   ]
  },
  {
   "cell_type": "code",
   "execution_count": 4,
   "id": "4cf9c3dc",
   "metadata": {
    "execution": {
     "iopub.execute_input": "2022-06-07T02:03:57.240977Z",
     "iopub.status.busy": "2022-06-07T02:03:57.240232Z",
     "iopub.status.idle": "2022-06-07T02:03:57.266127Z",
     "shell.execute_reply": "2022-06-07T02:03:57.265309Z"
    },
    "papermill": {
     "duration": 0.035369,
     "end_time": "2022-06-07T02:03:57.267946",
     "exception": false,
     "start_time": "2022-06-07T02:03:57.232577",
     "status": "completed"
    },
    "tags": []
   },
   "outputs": [
    {
     "data": {
      "text/html": [
       "<div>\n",
       "<style scoped>\n",
       "    .dataframe tbody tr th:only-of-type {\n",
       "        vertical-align: middle;\n",
       "    }\n",
       "\n",
       "    .dataframe tbody tr th {\n",
       "        vertical-align: top;\n",
       "    }\n",
       "\n",
       "    .dataframe thead th {\n",
       "        text-align: right;\n",
       "    }\n",
       "</style>\n",
       "<table border=\"1\" class=\"dataframe\">\n",
       "  <thead>\n",
       "    <tr style=\"text-align: right;\">\n",
       "      <th></th>\n",
       "      <th>PassengerId</th>\n",
       "      <th>Survived</th>\n",
       "      <th>Pclass</th>\n",
       "      <th>Name</th>\n",
       "      <th>Sex</th>\n",
       "      <th>Age</th>\n",
       "      <th>SibSp</th>\n",
       "      <th>Parch</th>\n",
       "      <th>Ticket</th>\n",
       "      <th>Fare</th>\n",
       "      <th>Cabin</th>\n",
       "      <th>Embarked</th>\n",
       "    </tr>\n",
       "  </thead>\n",
       "  <tbody>\n",
       "    <tr>\n",
       "      <th>0</th>\n",
       "      <td>1</td>\n",
       "      <td>0</td>\n",
       "      <td>3</td>\n",
       "      <td>Braund, Mr. Owen Harris</td>\n",
       "      <td>male</td>\n",
       "      <td>22.0</td>\n",
       "      <td>1</td>\n",
       "      <td>0</td>\n",
       "      <td>A/5 21171</td>\n",
       "      <td>7.2500</td>\n",
       "      <td>NaN</td>\n",
       "      <td>S</td>\n",
       "    </tr>\n",
       "    <tr>\n",
       "      <th>1</th>\n",
       "      <td>2</td>\n",
       "      <td>1</td>\n",
       "      <td>1</td>\n",
       "      <td>Cumings, Mrs. John Bradley (Florence Briggs Th...</td>\n",
       "      <td>female</td>\n",
       "      <td>38.0</td>\n",
       "      <td>1</td>\n",
       "      <td>0</td>\n",
       "      <td>PC 17599</td>\n",
       "      <td>71.2833</td>\n",
       "      <td>C85</td>\n",
       "      <td>C</td>\n",
       "    </tr>\n",
       "    <tr>\n",
       "      <th>2</th>\n",
       "      <td>3</td>\n",
       "      <td>1</td>\n",
       "      <td>3</td>\n",
       "      <td>Heikkinen, Miss. Laina</td>\n",
       "      <td>female</td>\n",
       "      <td>26.0</td>\n",
       "      <td>0</td>\n",
       "      <td>0</td>\n",
       "      <td>STON/O2. 3101282</td>\n",
       "      <td>7.9250</td>\n",
       "      <td>NaN</td>\n",
       "      <td>S</td>\n",
       "    </tr>\n",
       "    <tr>\n",
       "      <th>3</th>\n",
       "      <td>4</td>\n",
       "      <td>1</td>\n",
       "      <td>1</td>\n",
       "      <td>Futrelle, Mrs. Jacques Heath (Lily May Peel)</td>\n",
       "      <td>female</td>\n",
       "      <td>35.0</td>\n",
       "      <td>1</td>\n",
       "      <td>0</td>\n",
       "      <td>113803</td>\n",
       "      <td>53.1000</td>\n",
       "      <td>C123</td>\n",
       "      <td>S</td>\n",
       "    </tr>\n",
       "    <tr>\n",
       "      <th>4</th>\n",
       "      <td>5</td>\n",
       "      <td>0</td>\n",
       "      <td>3</td>\n",
       "      <td>Allen, Mr. William Henry</td>\n",
       "      <td>male</td>\n",
       "      <td>35.0</td>\n",
       "      <td>0</td>\n",
       "      <td>0</td>\n",
       "      <td>373450</td>\n",
       "      <td>8.0500</td>\n",
       "      <td>NaN</td>\n",
       "      <td>S</td>\n",
       "    </tr>\n",
       "  </tbody>\n",
       "</table>\n",
       "</div>"
      ],
      "text/plain": [
       "   PassengerId  Survived  Pclass  \\\n",
       "0            1         0       3   \n",
       "1            2         1       1   \n",
       "2            3         1       3   \n",
       "3            4         1       1   \n",
       "4            5         0       3   \n",
       "\n",
       "                                                Name     Sex   Age  SibSp  \\\n",
       "0                            Braund, Mr. Owen Harris    male  22.0      1   \n",
       "1  Cumings, Mrs. John Bradley (Florence Briggs Th...  female  38.0      1   \n",
       "2                             Heikkinen, Miss. Laina  female  26.0      0   \n",
       "3       Futrelle, Mrs. Jacques Heath (Lily May Peel)  female  35.0      1   \n",
       "4                           Allen, Mr. William Henry    male  35.0      0   \n",
       "\n",
       "   Parch            Ticket     Fare Cabin Embarked  \n",
       "0      0         A/5 21171   7.2500   NaN        S  \n",
       "1      0          PC 17599  71.2833   C85        C  \n",
       "2      0  STON/O2. 3101282   7.9250   NaN        S  \n",
       "3      0            113803  53.1000  C123        S  \n",
       "4      0            373450   8.0500   NaN        S  "
      ]
     },
     "execution_count": 4,
     "metadata": {},
     "output_type": "execute_result"
    }
   ],
   "source": [
    "training_set.head()"
   ]
  },
  {
   "cell_type": "code",
   "execution_count": 5,
   "id": "919968e0",
   "metadata": {
    "execution": {
     "iopub.execute_input": "2022-06-07T02:03:57.282902Z",
     "iopub.status.busy": "2022-06-07T02:03:57.282076Z",
     "iopub.status.idle": "2022-06-07T02:03:57.295736Z",
     "shell.execute_reply": "2022-06-07T02:03:57.294897Z"
    },
    "papermill": {
     "duration": 0.023326,
     "end_time": "2022-06-07T02:03:57.297744",
     "exception": false,
     "start_time": "2022-06-07T02:03:57.274418",
     "status": "completed"
    },
    "tags": []
   },
   "outputs": [],
   "source": [
    "X_train = training_set.copy()\n",
    "y_train = X_train.Survived\n",
    "X_train.drop(['Survived'], axis = 1, inplace = True)"
   ]
  },
  {
   "cell_type": "code",
   "execution_count": 6,
   "id": "875f0d55",
   "metadata": {
    "execution": {
     "iopub.execute_input": "2022-06-07T02:03:57.312656Z",
     "iopub.status.busy": "2022-06-07T02:03:57.312064Z",
     "iopub.status.idle": "2022-06-07T02:03:57.316294Z",
     "shell.execute_reply": "2022-06-07T02:03:57.315414Z"
    },
    "papermill": {
     "duration": 0.014007,
     "end_time": "2022-06-07T02:03:57.318227",
     "exception": false,
     "start_time": "2022-06-07T02:03:57.304220",
     "status": "completed"
    },
    "tags": []
   },
   "outputs": [],
   "source": [
    "X_test = test_set.copy()"
   ]
  },
  {
   "cell_type": "code",
   "execution_count": 7,
   "id": "e3dd6da5",
   "metadata": {
    "execution": {
     "iopub.execute_input": "2022-06-07T02:03:57.332839Z",
     "iopub.status.busy": "2022-06-07T02:03:57.332384Z",
     "iopub.status.idle": "2022-06-07T02:03:57.337762Z",
     "shell.execute_reply": "2022-06-07T02:03:57.336625Z"
    },
    "papermill": {
     "duration": 0.015361,
     "end_time": "2022-06-07T02:03:57.339933",
     "exception": false,
     "start_time": "2022-06-07T02:03:57.324572",
     "status": "completed"
    },
    "tags": []
   },
   "outputs": [
    {
     "name": "stdout",
     "output_type": "stream",
     "text": [
      "(891, 11)\n",
      "(891,)\n",
      "(418, 11)\n"
     ]
    }
   ],
   "source": [
    "print(X_train.shape)\n",
    "print(y_train.shape)\n",
    "print(X_test.shape)"
   ]
  },
  {
   "cell_type": "code",
   "execution_count": 8,
   "id": "850f1a59",
   "metadata": {
    "execution": {
     "iopub.execute_input": "2022-06-07T02:03:57.355150Z",
     "iopub.status.busy": "2022-06-07T02:03:57.354267Z",
     "iopub.status.idle": "2022-06-07T02:03:57.362547Z",
     "shell.execute_reply": "2022-06-07T02:03:57.361821Z"
    },
    "papermill": {
     "duration": 0.018093,
     "end_time": "2022-06-07T02:03:57.364415",
     "exception": false,
     "start_time": "2022-06-07T02:03:57.346322",
     "status": "completed"
    },
    "tags": []
   },
   "outputs": [],
   "source": [
    "X_train_full, X_valid_full, y_train, y_valid = train_test_split(X_train, y_train, \n",
    "                                                                train_size=0.8, \n",
    "                                                                test_size=0.2, \n",
    "                                                                random_state=0)"
   ]
  },
  {
   "cell_type": "code",
   "execution_count": 9,
   "id": "51c594ea",
   "metadata": {
    "execution": {
     "iopub.execute_input": "2022-06-07T02:03:57.379613Z",
     "iopub.status.busy": "2022-06-07T02:03:57.378425Z",
     "iopub.status.idle": "2022-06-07T02:03:57.399436Z",
     "shell.execute_reply": "2022-06-07T02:03:57.398545Z"
    },
    "papermill": {
     "duration": 0.030824,
     "end_time": "2022-06-07T02:03:57.401653",
     "exception": false,
     "start_time": "2022-06-07T02:03:57.370829",
     "status": "completed"
    },
    "tags": []
   },
   "outputs": [
    {
     "name": "stdout",
     "output_type": "stream",
     "text": [
      "<class 'pandas.core.frame.DataFrame'>\n",
      "RangeIndex: 891 entries, 0 to 890\n",
      "Data columns (total 11 columns):\n",
      " #   Column       Non-Null Count  Dtype  \n",
      "---  ------       --------------  -----  \n",
      " 0   PassengerId  891 non-null    int64  \n",
      " 1   Pclass       891 non-null    int64  \n",
      " 2   Name         891 non-null    object \n",
      " 3   Sex          891 non-null    object \n",
      " 4   Age          714 non-null    float64\n",
      " 5   SibSp        891 non-null    int64  \n",
      " 6   Parch        891 non-null    int64  \n",
      " 7   Ticket       891 non-null    object \n",
      " 8   Fare         891 non-null    float64\n",
      " 9   Cabin        204 non-null    object \n",
      " 10  Embarked     889 non-null    object \n",
      "dtypes: float64(2), int64(4), object(5)\n",
      "memory usage: 76.7+ KB\n"
     ]
    }
   ],
   "source": [
    "X_train.info()"
   ]
  },
  {
   "cell_type": "code",
   "execution_count": 10,
   "id": "2344dd93",
   "metadata": {
    "execution": {
     "iopub.execute_input": "2022-06-07T02:03:57.416603Z",
     "iopub.status.busy": "2022-06-07T02:03:57.415646Z",
     "iopub.status.idle": "2022-06-07T02:03:57.424671Z",
     "shell.execute_reply": "2022-06-07T02:03:57.423627Z"
    },
    "papermill": {
     "duration": 0.018824,
     "end_time": "2022-06-07T02:03:57.426894",
     "exception": false,
     "start_time": "2022-06-07T02:03:57.408070",
     "status": "completed"
    },
    "tags": []
   },
   "outputs": [
    {
     "name": "stdout",
     "output_type": "stream",
     "text": [
      "Cabin       687\n",
      "Age         177\n",
      "Embarked      2\n",
      "dtype: int64\n"
     ]
    }
   ],
   "source": [
    "missing_values = X_train.isnull().sum()\n",
    "missing_values = missing_values[missing_values > 0].sort_values(ascending=False)\n",
    "print(missing_values)"
   ]
  },
  {
   "cell_type": "code",
   "execution_count": 11,
   "id": "e2df756e",
   "metadata": {
    "execution": {
     "iopub.execute_input": "2022-06-07T02:03:57.441556Z",
     "iopub.status.busy": "2022-06-07T02:03:57.441112Z",
     "iopub.status.idle": "2022-06-07T02:03:57.455546Z",
     "shell.execute_reply": "2022-06-07T02:03:57.454713Z"
    },
    "papermill": {
     "duration": 0.02436,
     "end_time": "2022-06-07T02:03:57.457653",
     "exception": false,
     "start_time": "2022-06-07T02:03:57.433293",
     "status": "completed"
    },
    "tags": []
   },
   "outputs": [],
   "source": [
    "# Select categorical columns with no more than 15 unique values\n",
    "categorical_cols = [col for col in X_train_full.columns if \n",
    "                   X_train_full[col].nunique() <= 15 and\n",
    "                   X_train_full[col].dtype == 'object']\n",
    "\n",
    "# Select numeric values\n",
    "numeric_cols = [col for col in X_train_full.columns if\n",
    "                X_train_full[col].dtype in ['int64', 'float64']]\n",
    "\n",
    "# Keep selected columns\n",
    "my_columns = categorical_cols + numeric_cols\n",
    "X_train = X_train_full[my_columns].copy()\n",
    "X_valid = X_valid_full[my_columns].copy()\n",
    "X_test = X_test[my_columns].copy()"
   ]
  },
  {
   "cell_type": "code",
   "execution_count": 12,
   "id": "e7e65659",
   "metadata": {
    "execution": {
     "iopub.execute_input": "2022-06-07T02:03:57.473239Z",
     "iopub.status.busy": "2022-06-07T02:03:57.472638Z",
     "iopub.status.idle": "2022-06-07T02:03:57.478424Z",
     "shell.execute_reply": "2022-06-07T02:03:57.477360Z"
    },
    "papermill": {
     "duration": 0.01629,
     "end_time": "2022-06-07T02:03:57.480527",
     "exception": false,
     "start_time": "2022-06-07T02:03:57.464237",
     "status": "completed"
    },
    "tags": []
   },
   "outputs": [],
   "source": [
    "numerical_transformer = SimpleImputer(strategy='mean')\n",
    "categorical_transformer = Pipeline(steps = [\n",
    "    ('imputer', SimpleImputer(strategy='constant', fill_value='NA')),\n",
    "    ('onehot', OneHotEncoder(handle_unknown='ignore'))\n",
    "])\n",
    "\n",
    "preprocessor = ColumnTransformer(transformers = [\n",
    "    ('num', numerical_transformer, numeric_cols),\n",
    "    ('cat', categorical_transformer, categorical_cols)\n",
    "])"
   ]
  },
  {
   "cell_type": "code",
   "execution_count": 13,
   "id": "52bf6943",
   "metadata": {
    "execution": {
     "iopub.execute_input": "2022-06-07T02:03:57.495599Z",
     "iopub.status.busy": "2022-06-07T02:03:57.495169Z",
     "iopub.status.idle": "2022-06-07T02:03:57.499256Z",
     "shell.execute_reply": "2022-06-07T02:03:57.498211Z"
    },
    "papermill": {
     "duration": 0.013921,
     "end_time": "2022-06-07T02:03:57.501099",
     "exception": false,
     "start_time": "2022-06-07T02:03:57.487178",
     "status": "completed"
    },
    "tags": []
   },
   "outputs": [],
   "source": [
    "MSEs = {}"
   ]
  },
  {
   "cell_type": "code",
   "execution_count": 14,
   "id": "e9a80fc3",
   "metadata": {
    "execution": {
     "iopub.execute_input": "2022-06-07T02:03:57.516365Z",
     "iopub.status.busy": "2022-06-07T02:03:57.515300Z",
     "iopub.status.idle": "2022-06-07T02:03:57.549848Z",
     "shell.execute_reply": "2022-06-07T02:03:57.548876Z"
    },
    "papermill": {
     "duration": 0.044433,
     "end_time": "2022-06-07T02:03:57.551944",
     "exception": false,
     "start_time": "2022-06-07T02:03:57.507511",
     "status": "completed"
    },
    "tags": []
   },
   "outputs": [
    {
     "name": "stdout",
     "output_type": "stream",
     "text": [
      "MSE: 0.2011173184357542\n"
     ]
    }
   ],
   "source": [
    "from sklearn.linear_model import LogisticRegression\n",
    "model = LogisticRegression(max_iter = 500, solver='liblinear', random_state = 0)\n",
    "\n",
    "my_pipeline_LR = Pipeline(steps=[('preprocessor', preprocessor), ('model', model)])\n",
    "\n",
    "my_pipeline_LR.fit(X_train, y_train)\n",
    "preds = my_pipeline_LR.predict(X_valid)\n",
    "MSE = mean_squared_error(y_valid, preds)\n",
    "MSEs['Logistic Regression'] = MSE\n",
    "print('MSE:', MSE)"
   ]
  },
  {
   "cell_type": "code",
   "execution_count": 15,
   "id": "74f27091",
   "metadata": {
    "execution": {
     "iopub.execute_input": "2022-06-07T02:03:57.567168Z",
     "iopub.status.busy": "2022-06-07T02:03:57.566384Z",
     "iopub.status.idle": "2022-06-07T02:03:57.678213Z",
     "shell.execute_reply": "2022-06-07T02:03:57.677246Z"
    },
    "papermill": {
     "duration": 0.121692,
     "end_time": "2022-06-07T02:03:57.680308",
     "exception": false,
     "start_time": "2022-06-07T02:03:57.558616",
     "status": "completed"
    },
    "tags": []
   },
   "outputs": [
    {
     "name": "stdout",
     "output_type": "stream",
     "text": [
      "Average MSE score: 0.19372599231754162\n"
     ]
    }
   ],
   "source": [
    "kfold = KFold(shuffle=True, random_state=0)\n",
    "scores = cross_validate(my_pipeline_LR, X_train, y_train, scoring='neg_mean_squared_error', cv=kfold)\n",
    "\n",
    "print('Average MSE score:', (scores['test_score'] * -1).mean())"
   ]
  },
  {
   "cell_type": "code",
   "execution_count": 16,
   "id": "51cbaf53",
   "metadata": {
    "execution": {
     "iopub.execute_input": "2022-06-07T02:03:57.695653Z",
     "iopub.status.busy": "2022-06-07T02:03:57.695213Z",
     "iopub.status.idle": "2022-06-07T02:03:58.168527Z",
     "shell.execute_reply": "2022-06-07T02:03:58.167564Z"
    },
    "papermill": {
     "duration": 0.484247,
     "end_time": "2022-06-07T02:03:58.171092",
     "exception": false,
     "start_time": "2022-06-07T02:03:57.686845",
     "status": "completed"
    },
    "tags": []
   },
   "outputs": [
    {
     "name": "stdout",
     "output_type": "stream",
     "text": [
      "MSE: 0.16201117318435754\n"
     ]
    }
   ],
   "source": [
    "from xgboost import XGBClassifier\n",
    "model_xgb = XGBClassifier(verbosity = 0, random_state = 0)\n",
    "\n",
    "my_pipeline_xgb = Pipeline(steps=[('preprocessor', preprocessor), ('model', model_xgb)])\n",
    "\n",
    "my_pipeline_xgb.fit(X_train, y_train)\n",
    "preds = my_pipeline_xgb.predict(X_valid)\n",
    "MSE = mean_squared_error(y_valid, preds)\n",
    "MSEs['XGBoost'] = MSE\n",
    "print('MSE:', MSE)"
   ]
  },
  {
   "cell_type": "code",
   "execution_count": 17,
   "id": "2e42a2be",
   "metadata": {
    "execution": {
     "iopub.execute_input": "2022-06-07T02:03:58.186549Z",
     "iopub.status.busy": "2022-06-07T02:03:58.185728Z",
     "iopub.status.idle": "2022-06-07T02:03:58.218072Z",
     "shell.execute_reply": "2022-06-07T02:03:58.216664Z"
    },
    "papermill": {
     "duration": 0.042678,
     "end_time": "2022-06-07T02:03:58.220513",
     "exception": false,
     "start_time": "2022-06-07T02:03:58.177835",
     "status": "completed"
    },
    "tags": []
   },
   "outputs": [
    {
     "name": "stdout",
     "output_type": "stream",
     "text": [
      "MSE: 0.31843575418994413\n"
     ]
    }
   ],
   "source": [
    "from sklearn.neighbors import KNeighborsClassifier\n",
    "model_knn = KNeighborsClassifier(n_neighbors=3)\n",
    "\n",
    "my_pipeline_knn = Pipeline(steps=[('preprocessor', preprocessor), ('model', model_knn)])\n",
    "\n",
    "my_pipeline_knn.fit(X_train, y_train)\n",
    "preds = my_pipeline_knn.predict(X_valid)\n",
    "MSE = mean_squared_error(y_valid, preds)\n",
    "MSEs['KNN'] = MSE\n",
    "print('MSE:', MSE)"
   ]
  },
  {
   "cell_type": "code",
   "execution_count": 18,
   "id": "ca8e5bbe",
   "metadata": {
    "execution": {
     "iopub.execute_input": "2022-06-07T02:03:58.236079Z",
     "iopub.status.busy": "2022-06-07T02:03:58.235129Z",
     "iopub.status.idle": "2022-06-07T02:03:58.303138Z",
     "shell.execute_reply": "2022-06-07T02:03:58.301964Z"
    },
    "papermill": {
     "duration": 0.078075,
     "end_time": "2022-06-07T02:03:58.305287",
     "exception": false,
     "start_time": "2022-06-07T02:03:58.227212",
     "status": "completed"
    },
    "tags": []
   },
   "outputs": [
    {
     "name": "stdout",
     "output_type": "stream",
     "text": [
      "MSE: 0.39664804469273746\n"
     ]
    }
   ],
   "source": [
    "from sklearn.svm import SVC\n",
    "model_svc = SVC(gamma='auto')\n",
    "\n",
    "my_pipeline_svc = Pipeline(steps=[('preprocessor', preprocessor), ('model', model_svc)])\n",
    "\n",
    "my_pipeline_svc.fit(X_train, y_train)\n",
    "preds = my_pipeline_svc.predict(X_valid)\n",
    "MSE = mean_squared_error(y_valid, preds)\n",
    "MSEs['SVM'] = MSE\n",
    "print('MSE:', MSE)"
   ]
  },
  {
   "cell_type": "code",
   "execution_count": 19,
   "id": "7a1b2f32",
   "metadata": {
    "execution": {
     "iopub.execute_input": "2022-06-07T02:03:58.320514Z",
     "iopub.status.busy": "2022-06-07T02:03:58.320061Z",
     "iopub.status.idle": "2022-06-07T02:03:58.347443Z",
     "shell.execute_reply": "2022-06-07T02:03:58.346204Z"
    },
    "papermill": {
     "duration": 0.038607,
     "end_time": "2022-06-07T02:03:58.350667",
     "exception": false,
     "start_time": "2022-06-07T02:03:58.312060",
     "status": "completed"
    },
    "tags": []
   },
   "outputs": [
    {
     "name": "stdout",
     "output_type": "stream",
     "text": [
      "MSE: 0.2122905027932961\n"
     ]
    }
   ],
   "source": [
    "from sklearn.naive_bayes import GaussianNB\n",
    "model_nb = GaussianNB()\n",
    "\n",
    "my_pipeline_nb = Pipeline(steps=[('preprocessor', preprocessor), ('model', model_nb)])\n",
    "\n",
    "my_pipeline_nb.fit(X_train, y_train)\n",
    "preds = my_pipeline_nb.predict(X_valid)\n",
    "MSE = mean_squared_error(y_valid, preds)\n",
    "MSEs['Naive Bayes'] = MSE\n",
    "print('MSE:', MSE)"
   ]
  },
  {
   "cell_type": "code",
   "execution_count": 20,
   "id": "494be101",
   "metadata": {
    "execution": {
     "iopub.execute_input": "2022-06-07T02:03:58.367424Z",
     "iopub.status.busy": "2022-06-07T02:03:58.366670Z",
     "iopub.status.idle": "2022-06-07T02:03:58.418004Z",
     "shell.execute_reply": "2022-06-07T02:03:58.417244Z"
    },
    "papermill": {
     "duration": 0.061444,
     "end_time": "2022-06-07T02:03:58.419768",
     "exception": false,
     "start_time": "2022-06-07T02:03:58.358324",
     "status": "completed"
    },
    "tags": []
   },
   "outputs": [
    {
     "name": "stdout",
     "output_type": "stream",
     "text": [
      "MSE: 0.20670391061452514\n"
     ]
    }
   ],
   "source": [
    "from sklearn.discriminant_analysis import LinearDiscriminantAnalysis\n",
    "model_lda = LinearDiscriminantAnalysis()\n",
    "\n",
    "my_pipeline_lda = Pipeline(steps=[('preprocessor', preprocessor), ('model', model_lda)])\n",
    "\n",
    "my_pipeline_lda.fit(X_train, y_train)\n",
    "preds = my_pipeline_lda.predict(X_valid)\n",
    "MSE = mean_squared_error(y_valid, preds)\n",
    "MSEs['LDA'] = MSE\n",
    "print('MSE:', MSE)"
   ]
  },
  {
   "cell_type": "code",
   "execution_count": 21,
   "id": "adfbdfca",
   "metadata": {
    "execution": {
     "iopub.execute_input": "2022-06-07T02:03:58.435016Z",
     "iopub.status.busy": "2022-06-07T02:03:58.434558Z",
     "iopub.status.idle": "2022-06-07T02:03:59.784729Z",
     "shell.execute_reply": "2022-06-07T02:03:59.783873Z"
    },
    "papermill": {
     "duration": 1.360627,
     "end_time": "2022-06-07T02:03:59.787161",
     "exception": false,
     "start_time": "2022-06-07T02:03:58.426534",
     "status": "completed"
    },
    "tags": []
   },
   "outputs": [
    {
     "name": "stdout",
     "output_type": "stream",
     "text": [
      "MSE: 0.18994413407821228\n"
     ]
    }
   ],
   "source": [
    "from sklearn.ensemble import BaggingClassifier\n",
    "model_bagging = BaggingClassifier(n_jobs = -1, random_state = 0)\n",
    "\n",
    "my_pipeline_bagging = Pipeline(steps=[('preprocessor', preprocessor), ('model', model_bagging)])\n",
    "\n",
    "my_pipeline_bagging.fit(X_train, y_train)\n",
    "preds = my_pipeline_bagging.predict(X_valid)\n",
    "MSE = mean_squared_error(y_valid, preds)\n",
    "MSEs['Bagging'] = MSE\n",
    "print('MSE:', MSE)"
   ]
  },
  {
   "cell_type": "code",
   "execution_count": 22,
   "id": "bbc58ed7",
   "metadata": {
    "execution": {
     "iopub.execute_input": "2022-06-07T02:03:59.804156Z",
     "iopub.status.busy": "2022-06-07T02:03:59.802898Z",
     "iopub.status.idle": "2022-06-07T02:04:00.274660Z",
     "shell.execute_reply": "2022-06-07T02:04:00.273755Z"
    },
    "papermill": {
     "duration": 0.483022,
     "end_time": "2022-06-07T02:04:00.277026",
     "exception": false,
     "start_time": "2022-06-07T02:03:59.794004",
     "status": "completed"
    },
    "tags": []
   },
   "outputs": [
    {
     "name": "stdout",
     "output_type": "stream",
     "text": [
      "MSE: 0.1452513966480447\n"
     ]
    }
   ],
   "source": [
    "from sklearn.ensemble import RandomForestClassifier\n",
    "model_rf = RandomForestClassifier(random_state=0, n_jobs = -1)\n",
    "\n",
    "my_pipeline_rf = Pipeline(steps=[('preprocessor', preprocessor), ('model', model_rf)])\n",
    "\n",
    "my_pipeline_rf.fit(X_train, y_train)\n",
    "preds = my_pipeline_rf.predict(X_valid)\n",
    "MSE = mean_squared_error(y_valid, preds)\n",
    "MSEs['Random Forest'] = MSE\n",
    "print('MSE:', MSE)"
   ]
  },
  {
   "cell_type": "code",
   "execution_count": 23,
   "id": "ffbd2e4a",
   "metadata": {
    "execution": {
     "iopub.execute_input": "2022-06-07T02:04:00.293188Z",
     "iopub.status.busy": "2022-06-07T02:04:00.292743Z",
     "iopub.status.idle": "2022-06-07T02:04:00.297408Z",
     "shell.execute_reply": "2022-06-07T02:04:00.296341Z"
    },
    "papermill": {
     "duration": 0.015066,
     "end_time": "2022-06-07T02:04:00.299278",
     "exception": false,
     "start_time": "2022-06-07T02:04:00.284212",
     "status": "completed"
    },
    "tags": []
   },
   "outputs": [],
   "source": [
    "import matplotlib.pyplot as plt"
   ]
  },
  {
   "cell_type": "code",
   "execution_count": 24,
   "id": "ba095216",
   "metadata": {
    "execution": {
     "iopub.execute_input": "2022-06-07T02:04:00.315411Z",
     "iopub.status.busy": "2022-06-07T02:04:00.314350Z",
     "iopub.status.idle": "2022-06-07T02:04:00.538902Z",
     "shell.execute_reply": "2022-06-07T02:04:00.538083Z"
    },
    "papermill": {
     "duration": 0.234866,
     "end_time": "2022-06-07T02:04:00.540972",
     "exception": false,
     "start_time": "2022-06-07T02:04:00.306106",
     "status": "completed"
    },
    "tags": []
   },
   "outputs": [
    {
     "data": {
      "text/plain": [
       "([0, 1, 2, 3, 4, 5, 6, 7],\n",
       " [Text(0, 0, ''),\n",
       "  Text(0, 0, ''),\n",
       "  Text(0, 0, ''),\n",
       "  Text(0, 0, ''),\n",
       "  Text(0, 0, ''),\n",
       "  Text(0, 0, ''),\n",
       "  Text(0, 0, ''),\n",
       "  Text(0, 0, '')])"
      ]
     },
     "execution_count": 24,
     "metadata": {},
     "output_type": "execute_result"
    },
    {
     "data": {
      "image/png": "[encoded data removed]",
      "text/plain": [
       "<Figure size 432x288 with 1 Axes>"
      ]
     },
     "metadata": {
      "needs_background": "light"
     },
     "output_type": "display_data"
    }
   ],
   "source": [
    "plt.scatter(MSEs.keys(), MSEs.values())\n",
    "plt.xticks(rotation=90)"
   ]
  },
  {
   "cell_type": "markdown",
   "id": "61c96fd0",
   "metadata": {
    "papermill": {
     "duration": 0.007111,
     "end_time": "2022-06-07T02:04:00.555487",
     "exception": false,
     "start_time": "2022-06-07T02:04:00.548376",
     "status": "completed"
    },
    "tags": []
   },
   "source": [
    "As we can see, here Random Forest performs better than the other methods with (mostly) default parameters. We could try getting better parameters for the other algorithms using grid search, but they likely won't be better than RF. "
   ]
  },
  {
   "cell_type": "code",
   "execution_count": 25,
   "id": "ea1f08b8",
   "metadata": {
    "execution": {
     "iopub.execute_input": "2022-06-07T02:04:00.572719Z",
     "iopub.status.busy": "2022-06-07T02:04:00.571644Z",
     "iopub.status.idle": "2022-06-07T02:04:01.036273Z",
     "shell.execute_reply": "2022-06-07T02:04:01.035212Z"
    },
    "papermill": {
     "duration": 0.476163,
     "end_time": "2022-06-07T02:04:01.039085",
     "exception": false,
     "start_time": "2022-06-07T02:04:00.562922",
     "status": "completed"
    },
    "tags": []
   },
   "outputs": [],
   "source": [
    "final_model = model_rf\n",
    "final_pipeline = Pipeline(steps = [\n",
    "    ('preprocessor', preprocessor),\n",
    "    ('model', final_model)\n",
    "])\n",
    "\n",
    "X_train = training_set.copy()\n",
    "y_train = X_train.Survived\n",
    "\n",
    "final_pipeline.fit(X_train, y_train)\n",
    "\n",
    "final_prediction = final_pipeline.predict(X_test)"
   ]
  },
  {
   "cell_type": "code",
   "execution_count": 26,
   "id": "94ba5482",
   "metadata": {
    "execution": {
     "iopub.execute_input": "2022-06-07T02:04:01.058547Z",
     "iopub.status.busy": "2022-06-07T02:04:01.058013Z",
     "iopub.status.idle": "2022-06-07T02:04:01.068785Z",
     "shell.execute_reply": "2022-06-07T02:04:01.067710Z"
    },
    "papermill": {
     "duration": 0.024053,
     "end_time": "2022-06-07T02:04:01.071123",
     "exception": false,
     "start_time": "2022-06-07T02:04:01.047070",
     "status": "completed"
    },
    "tags": []
   },
   "outputs": [],
   "source": [
    "output = pd.DataFrame({\n",
    "    'PassengerId': X_test.PassengerId,\n",
    "    'Survived': final_prediction\n",
    "})\n",
    "output.to_csv('submission.csv', index = False)"
   ]
  },
  {
   "cell_type": "code",
   "execution_count": 27,
   "id": "1d7e316b",
   "metadata": {
    "execution": {
     "iopub.execute_input": "2022-06-07T02:04:01.088348Z",
     "iopub.status.busy": "2022-06-07T02:04:01.087873Z",
     "iopub.status.idle": "2022-06-07T02:04:01.094026Z",
     "shell.execute_reply": "2022-06-07T02:04:01.093058Z"
    },
    "papermill": {
     "duration": 0.017527,
     "end_time": "2022-06-07T02:04:01.096265",
     "exception": false,
     "start_time": "2022-06-07T02:04:01.078738",
     "status": "completed"
    },
    "tags": []
   },
   "outputs": [
    {
     "data": {
      "text/plain": [
       "(418,)"
      ]
     },
     "execution_count": 27,
     "metadata": {},
     "output_type": "execute_result"
    }
   ],
   "source": [
    "final_prediction.shape"
   ]
  },
  {
   "cell_type": "code",
   "execution_count": null,
   "id": "2786c760",
   "metadata": {
    "papermill": {
     "duration": 0.006975,
     "end_time": "2022-06-07T02:04:01.110590",
     "exception": false,
     "start_time": "2022-06-07T02:04:01.103615",
     "status": "completed"
    },
    "tags": []
   },
   "outputs": [],
   "source": []
  }
 ],
 "metadata": {
  "kernelspec": {
   "display_name": "Python 3",
   "language": "python",
   "name": "python3"
  },
  "language_info": {
   "codemirror_mode": {
    "name": "ipython",
    "version": 3
   },
   "file_extension": ".py",
   "mimetype": "text/x-python",
   "name": "python",
   "nbconvert_exporter": "python",
   "pygments_lexer": "ipython3",
   "version": "3.7.12"
  },
  "papermill": {
   "default_parameters": {},
   "duration": 16.984441,
   "end_time": "2022-06-07T02:04:03.739064",
   "environment_variables": {},
   "exception": null,
   "input_path": "__notebook__.ipynb",
   "output_path": "__notebook__.ipynb",
   "parameters": {},
   "start_time": "2022-06-07T02:03:46.754623",
   "version": "2.3.4"
  }
 },
 "nbformat": 4,
 "nbformat_minor": 5
}
