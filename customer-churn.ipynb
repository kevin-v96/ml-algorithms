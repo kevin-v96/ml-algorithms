{
 "cells": [
  {
   "cell_type": "code",
   "execution_count": 1,
   "id": "2b3b62df",
   "metadata": {
    "_cell_guid": "b1076dfc-b9ad-4769-8c92-a6c4dae69d19",
    "_uuid": "8f2839f25d086af736a60e9eeb907d3b93b6e0e5",
    "execution": {
     "iopub.execute_input": "2022-10-26T15:49:50.896051Z",
     "iopub.status.busy": "2022-10-26T15:49:50.895588Z",
     "iopub.status.idle": "2022-10-26T15:49:50.913795Z",
     "shell.execute_reply": "2022-10-26T15:49:50.912707Z"
    },
    "papermill": {
     "duration": 0.031388,
     "end_time": "2022-10-26T15:49:50.916318",
     "exception": false,
     "start_time": "2022-10-26T15:49:50.884930",
     "status": "completed"
    },
    "tags": []
   },
   "outputs": [
    {
     "name": "stdout",
     "output_type": "stream",
     "text": [
      "/kaggle/input/customer-churn-prediction/sampleSubmission.csv\n",
      "/kaggle/input/customer-churn-prediction/train.csv\n",
      "/kaggle/input/customer-churn-prediction/test.csv\n"
     ]
    }
   ],
   "source": [
    "# This Python 3 environment comes with many helpful analytics libraries installed\n",
    "# It is defined by the kaggle/python Docker image: https://github.com/kaggle/docker-python\n",
    "# For example, here's several helpful packages to load\n",
    "\n",
    "import numpy as np # linear algebra\n",
    "import pandas as pd # data processing, CSV file I/O (e.g. pd.read_csv)\n",
    "\n",
    "# Input data files are available in the read-only \"../input/\" directory\n",
    "# For example, running this (by clicking run or pressing Shift+Enter) will list all files under the input directory\n",
    "\n",
    "import os\n",
    "for dirname, _, filenames in os.walk('/kaggle/input'):\n",
    "    for filename in filenames:\n",
    "        print(os.path.join(dirname, filename))\n",
    "\n",
    "# You can write up to 20GB to the current directory (/kaggle/working/) that gets preserved as output when you create a version using \"Save & Run All\" \n",
    "# You can also write temporary files to /kaggle/temp/, but they won't be saved outside of the current session"
   ]
  },
  {
   "cell_type": "code",
   "execution_count": 2,
   "id": "3e73d7ff",
   "metadata": {
    "execution": {
     "iopub.execute_input": "2022-10-26T15:49:50.933995Z",
     "iopub.status.busy": "2022-10-26T15:49:50.933425Z",
     "iopub.status.idle": "2022-10-26T15:49:52.483745Z",
     "shell.execute_reply": "2022-10-26T15:49:52.482733Z"
    },
    "papermill": {
     "duration": 1.562007,
     "end_time": "2022-10-26T15:49:52.486563",
     "exception": false,
     "start_time": "2022-10-26T15:49:50.924556",
     "status": "completed"
    },
    "tags": []
   },
   "outputs": [],
   "source": [
    "import pandas as pd                                     # Data analysis tool\n",
    "import numpy as np                                      # Package for scientific computing\n",
    "from sklearn.model_selection import train_test_split    # Splits arrays or matrices into random train and test subsets\n",
    "from sklearn.model_selection import KFold               # Cross-validator\n",
    "from sklearn.model_selection import cross_validate      # Evaluate metrics by cross-validation\n",
    "from sklearn.model_selection import GridSearchCV        # Search over specified parameter values for an estimator\n",
    "from sklearn.compose import ColumnTransformer           # Applies transformers to columns of DataFrames\n",
    "from sklearn.pipeline import Pipeline                   # Helps building a chain of transforms and estimators\n",
    "from sklearn.impute import SimpleImputer                # Imputation transformer for completing missing values\n",
    "from sklearn.preprocessing import OneHotEncoder         # Encode categorical features\n",
    "from sklearn.metrics import mean_absolute_error, mean_squared_error         # One of many statistical measures of error\n",
    "from xgboost import XGBRegressor\n",
    "\n",
    "#Common Model Algorithms\n",
    "from sklearn import svm, tree, linear_model, neighbors, naive_bayes, ensemble, discriminant_analysis, gaussian_process\n",
    "from xgboost import XGBClassifier\n",
    "\n",
    "#Common Model Helpers\n",
    "from sklearn.preprocessing import OneHotEncoder, LabelEncoder\n",
    "from sklearn import feature_selection\n",
    "from sklearn import model_selection\n",
    "from sklearn import metrics\n",
    "\n",
    "#Visualization\n",
    "import matplotlib as mpl\n",
    "import matplotlib.pyplot as plt\n",
    "import matplotlib.pylab as pylab\n",
    "import seaborn as sns\n",
    "from pandas.plotting import scatter_matrix\n",
    "\n",
    "#Configure Visualization Defaults\n",
    "#%matplotlib inline = show plots in Jupyter Notebook browser\n",
    "%matplotlib inline\n",
    "mpl.style.use('ggplot')\n",
    "sns.set_style('white')\n",
    "pylab.rcParams['figure.figsize'] = 12,8"
   ]
  },
  {
   "cell_type": "code",
   "execution_count": 3,
   "id": "ebd7bfd2",
   "metadata": {
    "execution": {
     "iopub.execute_input": "2022-10-26T15:49:52.504528Z",
     "iopub.status.busy": "2022-10-26T15:49:52.504133Z",
     "iopub.status.idle": "2022-10-26T15:49:52.546781Z",
     "shell.execute_reply": "2022-10-26T15:49:52.545854Z"
    },
    "papermill": {
     "duration": 0.054277,
     "end_time": "2022-10-26T15:49:52.549389",
     "exception": false,
     "start_time": "2022-10-26T15:49:52.495112",
     "status": "completed"
    },
    "tags": []
   },
   "outputs": [],
   "source": [
    "training_set = pd.read_csv('../input/customer-churn-prediction/train.csv')\n",
    "test_set = pd.read_csv('../input/customer-churn-prediction/test.csv')"
   ]
  },
  {
   "cell_type": "code",
   "execution_count": 4,
   "id": "ec1b239a",
   "metadata": {
    "execution": {
     "iopub.execute_input": "2022-10-26T15:49:52.568097Z",
     "iopub.status.busy": "2022-10-26T15:49:52.566807Z",
     "iopub.status.idle": "2022-10-26T15:49:52.596567Z",
     "shell.execute_reply": "2022-10-26T15:49:52.595809Z"
    },
    "papermill": {
     "duration": 0.041284,
     "end_time": "2022-10-26T15:49:52.598835",
     "exception": false,
     "start_time": "2022-10-26T15:49:52.557551",
     "status": "completed"
    },
    "tags": []
   },
   "outputs": [
    {
     "data": {
      "text/html": [
       "<div>\n",
       "<style scoped>\n",
       "    .dataframe tbody tr th:only-of-type {\n",
       "        vertical-align: middle;\n",
       "    }\n",
       "\n",
       "    .dataframe tbody tr th {\n",
       "        vertical-align: top;\n",
       "    }\n",
       "\n",
       "    .dataframe thead th {\n",
       "        text-align: right;\n",
       "    }\n",
       "</style>\n",
       "<table border=\"1\" class=\"dataframe\">\n",
       "  <thead>\n",
       "    <tr style=\"text-align: right;\">\n",
       "      <th></th>\n",
       "      <th>state</th>\n",
       "      <th>account_length</th>\n",
       "      <th>area_code</th>\n",
       "      <th>international_plan</th>\n",
       "      <th>voice_mail_plan</th>\n",
       "      <th>number_vmail_messages</th>\n",
       "      <th>total_day_minutes</th>\n",
       "      <th>total_day_calls</th>\n",
       "      <th>total_day_charge</th>\n",
       "      <th>total_eve_minutes</th>\n",
       "      <th>total_eve_calls</th>\n",
       "      <th>total_eve_charge</th>\n",
       "      <th>total_night_minutes</th>\n",
       "      <th>total_night_calls</th>\n",
       "      <th>total_night_charge</th>\n",
       "      <th>total_intl_minutes</th>\n",
       "      <th>total_intl_calls</th>\n",
       "      <th>total_intl_charge</th>\n",
       "      <th>number_customer_service_calls</th>\n",
       "      <th>churn</th>\n",
       "    </tr>\n",
       "  </thead>\n",
       "  <tbody>\n",
       "    <tr>\n",
       "      <th>0</th>\n",
       "      <td>OH</td>\n",
       "      <td>107</td>\n",
       "      <td>area_code_415</td>\n",
       "      <td>no</td>\n",
       "      <td>yes</td>\n",
       "      <td>26</td>\n",
       "      <td>161.6</td>\n",
       "      <td>123</td>\n",
       "      <td>27.47</td>\n",
       "      <td>195.5</td>\n",
       "      <td>103</td>\n",
       "      <td>16.62</td>\n",
       "      <td>254.4</td>\n",
       "      <td>103</td>\n",
       "      <td>11.45</td>\n",
       "      <td>13.7</td>\n",
       "      <td>3</td>\n",
       "      <td>3.70</td>\n",
       "      <td>1</td>\n",
       "      <td>no</td>\n",
       "    </tr>\n",
       "    <tr>\n",
       "      <th>1</th>\n",
       "      <td>NJ</td>\n",
       "      <td>137</td>\n",
       "      <td>area_code_415</td>\n",
       "      <td>no</td>\n",
       "      <td>no</td>\n",
       "      <td>0</td>\n",
       "      <td>243.4</td>\n",
       "      <td>114</td>\n",
       "      <td>41.38</td>\n",
       "      <td>121.2</td>\n",
       "      <td>110</td>\n",
       "      <td>10.30</td>\n",
       "      <td>162.6</td>\n",
       "      <td>104</td>\n",
       "      <td>7.32</td>\n",
       "      <td>12.2</td>\n",
       "      <td>5</td>\n",
       "      <td>3.29</td>\n",
       "      <td>0</td>\n",
       "      <td>no</td>\n",
       "    </tr>\n",
       "    <tr>\n",
       "      <th>2</th>\n",
       "      <td>OH</td>\n",
       "      <td>84</td>\n",
       "      <td>area_code_408</td>\n",
       "      <td>yes</td>\n",
       "      <td>no</td>\n",
       "      <td>0</td>\n",
       "      <td>299.4</td>\n",
       "      <td>71</td>\n",
       "      <td>50.90</td>\n",
       "      <td>61.9</td>\n",
       "      <td>88</td>\n",
       "      <td>5.26</td>\n",
       "      <td>196.9</td>\n",
       "      <td>89</td>\n",
       "      <td>8.86</td>\n",
       "      <td>6.6</td>\n",
       "      <td>7</td>\n",
       "      <td>1.78</td>\n",
       "      <td>2</td>\n",
       "      <td>no</td>\n",
       "    </tr>\n",
       "    <tr>\n",
       "      <th>3</th>\n",
       "      <td>OK</td>\n",
       "      <td>75</td>\n",
       "      <td>area_code_415</td>\n",
       "      <td>yes</td>\n",
       "      <td>no</td>\n",
       "      <td>0</td>\n",
       "      <td>166.7</td>\n",
       "      <td>113</td>\n",
       "      <td>28.34</td>\n",
       "      <td>148.3</td>\n",
       "      <td>122</td>\n",
       "      <td>12.61</td>\n",
       "      <td>186.9</td>\n",
       "      <td>121</td>\n",
       "      <td>8.41</td>\n",
       "      <td>10.1</td>\n",
       "      <td>3</td>\n",
       "      <td>2.73</td>\n",
       "      <td>3</td>\n",
       "      <td>no</td>\n",
       "    </tr>\n",
       "    <tr>\n",
       "      <th>4</th>\n",
       "      <td>MA</td>\n",
       "      <td>121</td>\n",
       "      <td>area_code_510</td>\n",
       "      <td>no</td>\n",
       "      <td>yes</td>\n",
       "      <td>24</td>\n",
       "      <td>218.2</td>\n",
       "      <td>88</td>\n",
       "      <td>37.09</td>\n",
       "      <td>348.5</td>\n",
       "      <td>108</td>\n",
       "      <td>29.62</td>\n",
       "      <td>212.6</td>\n",
       "      <td>118</td>\n",
       "      <td>9.57</td>\n",
       "      <td>7.5</td>\n",
       "      <td>7</td>\n",
       "      <td>2.03</td>\n",
       "      <td>3</td>\n",
       "      <td>no</td>\n",
       "    </tr>\n",
       "  </tbody>\n",
       "</table>\n",
       "</div>"
      ],
      "text/plain": [
       "  state  account_length      area_code international_plan voice_mail_plan  \\\n",
       "0    OH             107  area_code_415                 no             yes   \n",
       "1    NJ             137  area_code_415                 no              no   \n",
       "2    OH              84  area_code_408                yes              no   \n",
       "3    OK              75  area_code_415                yes              no   \n",
       "4    MA             121  area_code_510                 no             yes   \n",
       "\n",
       "   number_vmail_messages  total_day_minutes  total_day_calls  \\\n",
       "0                     26              161.6              123   \n",
       "1                      0              243.4              114   \n",
       "2                      0              299.4               71   \n",
       "3                      0              166.7              113   \n",
       "4                     24              218.2               88   \n",
       "\n",
       "   total_day_charge  total_eve_minutes  total_eve_calls  total_eve_charge  \\\n",
       "0             27.47              195.5              103             16.62   \n",
       "1             41.38              121.2              110             10.30   \n",
       "2             50.90               61.9               88              5.26   \n",
       "3             28.34              148.3              122             12.61   \n",
       "4             37.09              348.5              108             29.62   \n",
       "\n",
       "   total_night_minutes  total_night_calls  total_night_charge  \\\n",
       "0                254.4                103               11.45   \n",
       "1                162.6                104                7.32   \n",
       "2                196.9                 89                8.86   \n",
       "3                186.9                121                8.41   \n",
       "4                212.6                118                9.57   \n",
       "\n",
       "   total_intl_minutes  total_intl_calls  total_intl_charge  \\\n",
       "0                13.7                 3               3.70   \n",
       "1                12.2                 5               3.29   \n",
       "2                 6.6                 7               1.78   \n",
       "3                10.1                 3               2.73   \n",
       "4                 7.5                 7               2.03   \n",
       "\n",
       "   number_customer_service_calls churn  \n",
       "0                              1    no  \n",
       "1                              0    no  \n",
       "2                              2    no  \n",
       "3                              3    no  \n",
       "4                              3    no  "
      ]
     },
     "execution_count": 4,
     "metadata": {},
     "output_type": "execute_result"
    }
   ],
   "source": [
    "training_set.head()"
   ]
  },
  {
   "cell_type": "code",
   "execution_count": 5,
   "id": "7512eefa",
   "metadata": {
    "execution": {
     "iopub.execute_input": "2022-10-26T15:49:52.618899Z",
     "iopub.status.busy": "2022-10-26T15:49:52.617942Z",
     "iopub.status.idle": "2022-10-26T15:49:52.630204Z",
     "shell.execute_reply": "2022-10-26T15:49:52.629211Z"
    },
    "papermill": {
     "duration": 0.024805,
     "end_time": "2022-10-26T15:49:52.632599",
     "exception": false,
     "start_time": "2022-10-26T15:49:52.607794",
     "status": "completed"
    },
    "tags": []
   },
   "outputs": [],
   "source": [
    "X_train = training_set.copy()\n",
    "y_train = X_train.churn\n",
    "X_train.drop(['churn'], axis = 1, inplace = True)"
   ]
  },
  {
   "cell_type": "code",
   "execution_count": 6,
   "id": "1846037a",
   "metadata": {
    "execution": {
     "iopub.execute_input": "2022-10-26T15:49:52.652513Z",
     "iopub.status.busy": "2022-10-26T15:49:52.652104Z",
     "iopub.status.idle": "2022-10-26T15:49:52.657580Z",
     "shell.execute_reply": "2022-10-26T15:49:52.656514Z"
    },
    "papermill": {
     "duration": 0.017297,
     "end_time": "2022-10-26T15:49:52.659848",
     "exception": false,
     "start_time": "2022-10-26T15:49:52.642551",
     "status": "completed"
    },
    "tags": []
   },
   "outputs": [],
   "source": [
    "X_test = test_set.copy()"
   ]
  },
  {
   "cell_type": "code",
   "execution_count": 7,
   "id": "72d1aaae",
   "metadata": {
    "execution": {
     "iopub.execute_input": "2022-10-26T15:49:52.678203Z",
     "iopub.status.busy": "2022-10-26T15:49:52.677815Z",
     "iopub.status.idle": "2022-10-26T15:49:52.683199Z",
     "shell.execute_reply": "2022-10-26T15:49:52.682432Z"
    },
    "papermill": {
     "duration": 0.017288,
     "end_time": "2022-10-26T15:49:52.685677",
     "exception": false,
     "start_time": "2022-10-26T15:49:52.668389",
     "status": "completed"
    },
    "tags": []
   },
   "outputs": [
    {
     "name": "stdout",
     "output_type": "stream",
     "text": [
      "(4250, 19)\n",
      "(4250,)\n",
      "(750, 20)\n"
     ]
    }
   ],
   "source": [
    "print(X_train.shape)\n",
    "print(y_train.shape)\n",
    "print(X_test.shape)"
   ]
  },
  {
   "cell_type": "code",
   "execution_count": 8,
   "id": "0ee94ed5",
   "metadata": {
    "execution": {
     "iopub.execute_input": "2022-10-26T15:49:52.704612Z",
     "iopub.status.busy": "2022-10-26T15:49:52.703587Z",
     "iopub.status.idle": "2022-10-26T15:49:52.726235Z",
     "shell.execute_reply": "2022-10-26T15:49:52.724816Z"
    },
    "papermill": {
     "duration": 0.034427,
     "end_time": "2022-10-26T15:49:52.728559",
     "exception": false,
     "start_time": "2022-10-26T15:49:52.694132",
     "status": "completed"
    },
    "tags": []
   },
   "outputs": [
    {
     "name": "stdout",
     "output_type": "stream",
     "text": [
      "<class 'pandas.core.frame.DataFrame'>\n",
      "RangeIndex: 4250 entries, 0 to 4249\n",
      "Data columns (total 19 columns):\n",
      " #   Column                         Non-Null Count  Dtype  \n",
      "---  ------                         --------------  -----  \n",
      " 0   state                          4250 non-null   object \n",
      " 1   account_length                 4250 non-null   int64  \n",
      " 2   area_code                      4250 non-null   object \n",
      " 3   international_plan             4250 non-null   object \n",
      " 4   voice_mail_plan                4250 non-null   object \n",
      " 5   number_vmail_messages          4250 non-null   int64  \n",
      " 6   total_day_minutes              4250 non-null   float64\n",
      " 7   total_day_calls                4250 non-null   int64  \n",
      " 8   total_day_charge               4250 non-null   float64\n",
      " 9   total_eve_minutes              4250 non-null   float64\n",
      " 10  total_eve_calls                4250 non-null   int64  \n",
      " 11  total_eve_charge               4250 non-null   float64\n",
      " 12  total_night_minutes            4250 non-null   float64\n",
      " 13  total_night_calls              4250 non-null   int64  \n",
      " 14  total_night_charge             4250 non-null   float64\n",
      " 15  total_intl_minutes             4250 non-null   float64\n",
      " 16  total_intl_calls               4250 non-null   int64  \n",
      " 17  total_intl_charge              4250 non-null   float64\n",
      " 18  number_customer_service_calls  4250 non-null   int64  \n",
      "dtypes: float64(8), int64(7), object(4)\n",
      "memory usage: 631.0+ KB\n"
     ]
    }
   ],
   "source": [
    "X_train.info()"
   ]
  },
  {
   "cell_type": "code",
   "execution_count": 9,
   "id": "e10e6f0e",
   "metadata": {
    "execution": {
     "iopub.execute_input": "2022-10-26T15:49:52.747490Z",
     "iopub.status.busy": "2022-10-26T15:49:52.746923Z",
     "iopub.status.idle": "2022-10-26T15:49:52.753224Z",
     "shell.execute_reply": "2022-10-26T15:49:52.752488Z"
    },
    "papermill": {
     "duration": 0.018131,
     "end_time": "2022-10-26T15:49:52.755151",
     "exception": false,
     "start_time": "2022-10-26T15:49:52.737020",
     "status": "completed"
    },
    "tags": []
   },
   "outputs": [
    {
     "data": {
      "text/plain": [
       "Index(['state', 'account_length', 'area_code', 'international_plan',\n",
       "       'voice_mail_plan', 'number_vmail_messages', 'total_day_minutes',\n",
       "       'total_day_calls', 'total_day_charge', 'total_eve_minutes',\n",
       "       'total_eve_calls', 'total_eve_charge', 'total_night_minutes',\n",
       "       'total_night_calls', 'total_night_charge', 'total_intl_minutes',\n",
       "       'total_intl_calls', 'total_intl_charge',\n",
       "       'number_customer_service_calls'],\n",
       "      dtype='object')"
      ]
     },
     "execution_count": 9,
     "metadata": {},
     "output_type": "execute_result"
    }
   ],
   "source": [
    "X_train.columns"
   ]
  },
  {
   "cell_type": "code",
   "execution_count": 10,
   "id": "8a9a1165",
   "metadata": {
    "execution": {
     "iopub.execute_input": "2022-10-26T15:49:52.773985Z",
     "iopub.status.busy": "2022-10-26T15:49:52.773400Z",
     "iopub.status.idle": "2022-10-26T15:49:52.779208Z",
     "shell.execute_reply": "2022-10-26T15:49:52.778262Z"
    },
    "papermill": {
     "duration": 0.017589,
     "end_time": "2022-10-26T15:49:52.781207",
     "exception": false,
     "start_time": "2022-10-26T15:49:52.763618",
     "status": "completed"
    },
    "tags": []
   },
   "outputs": [
    {
     "data": {
      "text/plain": [
       "Index(['id', 'state', 'account_length', 'area_code', 'international_plan',\n",
       "       'voice_mail_plan', 'number_vmail_messages', 'total_day_minutes',\n",
       "       'total_day_calls', 'total_day_charge', 'total_eve_minutes',\n",
       "       'total_eve_calls', 'total_eve_charge', 'total_night_minutes',\n",
       "       'total_night_calls', 'total_night_charge', 'total_intl_minutes',\n",
       "       'total_intl_calls', 'total_intl_charge',\n",
       "       'number_customer_service_calls'],\n",
       "      dtype='object')"
      ]
     },
     "execution_count": 10,
     "metadata": {},
     "output_type": "execute_result"
    }
   ],
   "source": [
    "X_test.columns"
   ]
  },
  {
   "cell_type": "code",
   "execution_count": 11,
   "id": "feacd5a0",
   "metadata": {
    "execution": {
     "iopub.execute_input": "2022-10-26T15:49:52.799760Z",
     "iopub.status.busy": "2022-10-26T15:49:52.799364Z",
     "iopub.status.idle": "2022-10-26T15:49:52.807882Z",
     "shell.execute_reply": "2022-10-26T15:49:52.806763Z"
    },
    "papermill": {
     "duration": 0.02053,
     "end_time": "2022-10-26T15:49:52.810179",
     "exception": false,
     "start_time": "2022-10-26T15:49:52.789649",
     "status": "completed"
    },
    "tags": []
   },
   "outputs": [
    {
     "data": {
      "text/plain": [
       "0       no\n",
       "1       no\n",
       "2       no\n",
       "3       no\n",
       "4       no\n",
       "        ..\n",
       "4245    no\n",
       "4246    no\n",
       "4247    no\n",
       "4248    no\n",
       "4249    no\n",
       "Name: churn, Length: 4250, dtype: object"
      ]
     },
     "execution_count": 11,
     "metadata": {},
     "output_type": "execute_result"
    }
   ],
   "source": [
    "y_train"
   ]
  },
  {
   "cell_type": "code",
   "execution_count": 12,
   "id": "1a14827f",
   "metadata": {
    "execution": {
     "iopub.execute_input": "2022-10-26T15:49:52.829807Z",
     "iopub.status.busy": "2022-10-26T15:49:52.829191Z",
     "iopub.status.idle": "2022-10-26T15:49:52.835866Z",
     "shell.execute_reply": "2022-10-26T15:49:52.834980Z"
    },
    "papermill": {
     "duration": 0.019067,
     "end_time": "2022-10-26T15:49:52.837921",
     "exception": false,
     "start_time": "2022-10-26T15:49:52.818854",
     "status": "completed"
    },
    "tags": []
   },
   "outputs": [
    {
     "data": {
      "text/plain": [
       "pandas.core.series.Series"
      ]
     },
     "execution_count": 12,
     "metadata": {},
     "output_type": "execute_result"
    }
   ],
   "source": [
    "type(y_train)"
   ]
  },
  {
   "cell_type": "code",
   "execution_count": 13,
   "id": "fe82457f",
   "metadata": {
    "execution": {
     "iopub.execute_input": "2022-10-26T15:49:52.857826Z",
     "iopub.status.busy": "2022-10-26T15:49:52.857176Z",
     "iopub.status.idle": "2022-10-26T15:49:52.864556Z",
     "shell.execute_reply": "2022-10-26T15:49:52.863789Z"
    },
    "papermill": {
     "duration": 0.019948,
     "end_time": "2022-10-26T15:49:52.866822",
     "exception": false,
     "start_time": "2022-10-26T15:49:52.846874",
     "status": "completed"
    },
    "tags": []
   },
   "outputs": [],
   "source": [
    "y_train = y_train.replace(to_replace=['no', 'yes'], value=[0, 1])"
   ]
  },
  {
   "cell_type": "code",
   "execution_count": 14,
   "id": "24d0c295",
   "metadata": {
    "execution": {
     "iopub.execute_input": "2022-10-26T15:49:52.887122Z",
     "iopub.status.busy": "2022-10-26T15:49:52.886435Z",
     "iopub.status.idle": "2022-10-26T15:49:52.894384Z",
     "shell.execute_reply": "2022-10-26T15:49:52.893635Z"
    },
    "papermill": {
     "duration": 0.020358,
     "end_time": "2022-10-26T15:49:52.896448",
     "exception": false,
     "start_time": "2022-10-26T15:49:52.876090",
     "status": "completed"
    },
    "tags": []
   },
   "outputs": [],
   "source": [
    "X_train_full, X_valid_full, y_train, y_valid = train_test_split(X_train, y_train, \n",
    "                                                                train_size=0.8, \n",
    "                                                                test_size=0.2, \n",
    "                                                                random_state=0)"
   ]
  },
  {
   "cell_type": "code",
   "execution_count": 15,
   "id": "422e56dd",
   "metadata": {
    "execution": {
     "iopub.execute_input": "2022-10-26T15:49:52.916661Z",
     "iopub.status.busy": "2022-10-26T15:49:52.916019Z",
     "iopub.status.idle": "2022-10-26T15:49:52.935496Z",
     "shell.execute_reply": "2022-10-26T15:49:52.934647Z"
    },
    "papermill": {
     "duration": 0.032289,
     "end_time": "2022-10-26T15:49:52.937875",
     "exception": false,
     "start_time": "2022-10-26T15:49:52.905586",
     "status": "completed"
    },
    "tags": []
   },
   "outputs": [],
   "source": [
    "# Select categorical columns with no more than 15 unique values\n",
    "categorical_cols = [col for col in X_train_full.columns if \n",
    "                   X_train_full[col].nunique() <= 15 and\n",
    "                   X_train_full[col].dtype == 'object']\n",
    "\n",
    "# Select numeric values\n",
    "numeric_cols = [col for col in X_train_full.columns if\n",
    "                X_train_full[col].dtype in ['int64', 'float64']]\n",
    "\n",
    "# Keep selected columns\n",
    "my_columns = categorical_cols + numeric_cols\n",
    "X_train = X_train_full[my_columns].copy()\n",
    "X_valid = X_valid_full[my_columns].copy()\n",
    "X_test = X_test[my_columns].copy()\n",
    "\n",
    "numerical_transformer = SimpleImputer(strategy='mean')\n",
    "categorical_transformer = Pipeline(steps = [\n",
    "    ('imputer', SimpleImputer(strategy='constant', fill_value='NA')),\n",
    "    ('onehot', OneHotEncoder(handle_unknown='ignore'))\n",
    "])\n",
    "\n",
    "preprocessor = ColumnTransformer(transformers = [\n",
    "    ('num', numerical_transformer, numeric_cols),\n",
    "    ('cat', categorical_transformer, categorical_cols)\n",
    "])"
   ]
  },
  {
   "cell_type": "code",
   "execution_count": 16,
   "id": "f5350773",
   "metadata": {
    "execution": {
     "iopub.execute_input": "2022-10-26T15:49:52.957267Z",
     "iopub.status.busy": "2022-10-26T15:49:52.956907Z",
     "iopub.status.idle": "2022-10-26T15:49:52.961344Z",
     "shell.execute_reply": "2022-10-26T15:49:52.960285Z"
    },
    "papermill": {
     "duration": 0.0163,
     "end_time": "2022-10-26T15:49:52.963389",
     "exception": false,
     "start_time": "2022-10-26T15:49:52.947089",
     "status": "completed"
    },
    "tags": []
   },
   "outputs": [],
   "source": [
    "MSEs = {}"
   ]
  },
  {
   "cell_type": "code",
   "execution_count": 17,
   "id": "6ace2b39",
   "metadata": {
    "execution": {
     "iopub.execute_input": "2022-10-26T15:49:52.984777Z",
     "iopub.status.busy": "2022-10-26T15:49:52.983832Z",
     "iopub.status.idle": "2022-10-26T15:49:53.138771Z",
     "shell.execute_reply": "2022-10-26T15:49:53.137265Z"
    },
    "papermill": {
     "duration": 0.170735,
     "end_time": "2022-10-26T15:49:53.143039",
     "exception": false,
     "start_time": "2022-10-26T15:49:52.972304",
     "status": "completed"
    },
    "tags": []
   },
   "outputs": [
    {
     "name": "stdout",
     "output_type": "stream",
     "text": [
      "MSE: 0.12352941176470589\n"
     ]
    }
   ],
   "source": [
    "from sklearn.linear_model import LogisticRegression\n",
    "model = LogisticRegression(max_iter = 500, solver='liblinear', random_state = 0)\n",
    "\n",
    "my_pipeline_LR = Pipeline(steps=[('preprocessor', preprocessor), ('model', model)])\n",
    "\n",
    "my_pipeline_LR.fit(X_train, y_train)\n",
    "preds = my_pipeline_LR.predict(X_valid)\n",
    "MSE = mean_squared_error(y_valid, preds)\n",
    "MSEs['Logistic Regression'] = MSE\n",
    "print('MSE:', MSE)"
   ]
  },
  {
   "cell_type": "code",
   "execution_count": 18,
   "id": "9399dca4",
   "metadata": {
    "execution": {
     "iopub.execute_input": "2022-10-26T15:49:53.191306Z",
     "iopub.status.busy": "2022-10-26T15:49:53.190609Z",
     "iopub.status.idle": "2022-10-26T15:49:53.970055Z",
     "shell.execute_reply": "2022-10-26T15:49:53.967492Z"
    },
    "papermill": {
     "duration": 0.808985,
     "end_time": "2022-10-26T15:49:53.975001",
     "exception": false,
     "start_time": "2022-10-26T15:49:53.166016",
     "status": "completed"
    },
    "tags": []
   },
   "outputs": [
    {
     "name": "stdout",
     "output_type": "stream",
     "text": [
      "Average MSE score: 0.13794117647058823\n"
     ]
    }
   ],
   "source": [
    "kfold = KFold(shuffle=True, random_state=0)\n",
    "scores = cross_validate(my_pipeline_LR, X_train, y_train, scoring='neg_mean_squared_error', cv=kfold)\n",
    "\n",
    "print('Average MSE score:', (scores['test_score'] * -1).mean())"
   ]
  },
  {
   "cell_type": "code",
   "execution_count": 19,
   "id": "fc812c10",
   "metadata": {
    "execution": {
     "iopub.execute_input": "2022-10-26T15:49:54.023367Z",
     "iopub.status.busy": "2022-10-26T15:49:54.022607Z",
     "iopub.status.idle": "2022-10-26T15:49:54.790673Z",
     "shell.execute_reply": "2022-10-26T15:49:54.789681Z"
    },
    "papermill": {
     "duration": 0.796384,
     "end_time": "2022-10-26T15:49:54.794149",
     "exception": false,
     "start_time": "2022-10-26T15:49:53.997765",
     "status": "completed"
    },
    "tags": []
   },
   "outputs": [
    {
     "name": "stdout",
     "output_type": "stream",
     "text": [
      "MSE: 0.03411764705882353\n"
     ]
    }
   ],
   "source": [
    "from xgboost import XGBClassifier\n",
    "model_xgb = XGBClassifier(verbosity = 0, random_state = 0)\n",
    "\n",
    "my_pipeline_xgb = Pipeline(steps=[('preprocessor', preprocessor), ('model', model_xgb)])\n",
    "\n",
    "my_pipeline_xgb.fit(X_train, y_train)\n",
    "preds = my_pipeline_xgb.predict(X_valid)\n",
    "MSE = mean_squared_error(y_valid, preds)\n",
    "MSEs['XGBoost'] = MSE\n",
    "print('MSE:', MSE)"
   ]
  },
  {
   "cell_type": "code",
   "execution_count": 20,
   "id": "319c4d97",
   "metadata": {
    "execution": {
     "iopub.execute_input": "2022-10-26T15:49:54.815938Z",
     "iopub.status.busy": "2022-10-26T15:49:54.815556Z",
     "iopub.status.idle": "2022-10-26T15:49:54.984229Z",
     "shell.execute_reply": "2022-10-26T15:49:54.981833Z"
    },
    "papermill": {
     "duration": 0.183341,
     "end_time": "2022-10-26T15:49:54.988966",
     "exception": false,
     "start_time": "2022-10-26T15:49:54.805625",
     "status": "completed"
    },
    "tags": []
   },
   "outputs": [
    {
     "name": "stdout",
     "output_type": "stream",
     "text": [
      "MSE: 0.09529411764705882\n"
     ]
    }
   ],
   "source": [
    "from sklearn.neighbors import KNeighborsClassifier\n",
    "model_knn = KNeighborsClassifier(n_neighbors=3)\n",
    "\n",
    "my_pipeline_knn = Pipeline(steps=[('preprocessor', preprocessor), ('model', model_knn)])\n",
    "\n",
    "my_pipeline_knn.fit(X_train, y_train)\n",
    "preds = my_pipeline_knn.predict(X_valid)\n",
    "MSE = mean_squared_error(y_valid, preds)\n",
    "MSEs['KNN'] = MSE\n",
    "print('MSE:', MSE)"
   ]
  },
  {
   "cell_type": "code",
   "execution_count": 21,
   "id": "4dd669f4",
   "metadata": {
    "execution": {
     "iopub.execute_input": "2022-10-26T15:49:55.015271Z",
     "iopub.status.busy": "2022-10-26T15:49:55.013276Z",
     "iopub.status.idle": "2022-10-26T15:49:56.340066Z",
     "shell.execute_reply": "2022-10-26T15:49:56.338816Z"
    },
    "papermill": {
     "duration": 1.342235,
     "end_time": "2022-10-26T15:49:56.343166",
     "exception": false,
     "start_time": "2022-10-26T15:49:55.000931",
     "status": "completed"
    },
    "tags": []
   },
   "outputs": [
    {
     "name": "stdout",
     "output_type": "stream",
     "text": [
      "MSE: 0.13529411764705881\n"
     ]
    }
   ],
   "source": [
    "from sklearn.svm import SVC\n",
    "model_svc = SVC(gamma='auto')\n",
    "\n",
    "my_pipeline_svc = Pipeline(steps=[('preprocessor', preprocessor), ('model', model_svc)])\n",
    "\n",
    "my_pipeline_svc.fit(X_train, y_train)\n",
    "preds = my_pipeline_svc.predict(X_valid)\n",
    "MSE = mean_squared_error(y_valid, preds)\n",
    "MSEs['SVM'] = MSE\n",
    "print('MSE:', MSE)"
   ]
  },
  {
   "cell_type": "code",
   "execution_count": 22,
   "id": "e0dc04d0",
   "metadata": {
    "execution": {
     "iopub.execute_input": "2022-10-26T15:49:56.363608Z",
     "iopub.status.busy": "2022-10-26T15:49:56.363202Z",
     "iopub.status.idle": "2022-10-26T15:49:56.394860Z",
     "shell.execute_reply": "2022-10-26T15:49:56.393677Z"
    },
    "papermill": {
     "duration": 0.044566,
     "end_time": "2022-10-26T15:49:56.397338",
     "exception": false,
     "start_time": "2022-10-26T15:49:56.352772",
     "status": "completed"
    },
    "tags": []
   },
   "outputs": [
    {
     "name": "stdout",
     "output_type": "stream",
     "text": [
      "MSE: 0.12352941176470589\n"
     ]
    }
   ],
   "source": [
    "from sklearn.naive_bayes import GaussianNB\n",
    "model_nb = GaussianNB()\n",
    "\n",
    "my_pipeline_nb = Pipeline(steps=[('preprocessor', preprocessor), ('model', model_nb)])\n",
    "\n",
    "my_pipeline_nb.fit(X_train, y_train)\n",
    "preds = my_pipeline_nb.predict(X_valid)\n",
    "MSE = mean_squared_error(y_valid, preds)\n",
    "MSEs['Naive Bayes'] = MSE\n",
    "print('MSE:', MSE)"
   ]
  },
  {
   "cell_type": "code",
   "execution_count": 23,
   "id": "3cf005b4",
   "metadata": {
    "execution": {
     "iopub.execute_input": "2022-10-26T15:49:56.417408Z",
     "iopub.status.busy": "2022-10-26T15:49:56.417041Z",
     "iopub.status.idle": "2022-10-26T15:49:56.494292Z",
     "shell.execute_reply": "2022-10-26T15:49:56.492612Z"
    },
    "papermill": {
     "duration": 0.091419,
     "end_time": "2022-10-26T15:49:56.498019",
     "exception": false,
     "start_time": "2022-10-26T15:49:56.406600",
     "status": "completed"
    },
    "tags": []
   },
   "outputs": [
    {
     "name": "stdout",
     "output_type": "stream",
     "text": [
      "MSE: 0.13176470588235295\n"
     ]
    }
   ],
   "source": [
    "from sklearn.discriminant_analysis import LinearDiscriminantAnalysis\n",
    "model_lda = LinearDiscriminantAnalysis()\n",
    "\n",
    "my_pipeline_lda = Pipeline(steps=[('preprocessor', preprocessor), ('model', model_lda)])\n",
    "\n",
    "my_pipeline_lda.fit(X_train, y_train)\n",
    "preds = my_pipeline_lda.predict(X_valid)\n",
    "MSE = mean_squared_error(y_valid, preds)\n",
    "MSEs['LDA'] = MSE\n",
    "print('MSE:', MSE)"
   ]
  },
  {
   "cell_type": "code",
   "execution_count": 24,
   "id": "13a02831",
   "metadata": {
    "execution": {
     "iopub.execute_input": "2022-10-26T15:49:56.595217Z",
     "iopub.status.busy": "2022-10-26T15:49:56.594518Z",
     "iopub.status.idle": "2022-10-26T15:49:57.934290Z",
     "shell.execute_reply": "2022-10-26T15:49:57.932966Z"
    },
    "papermill": {
     "duration": 1.383961,
     "end_time": "2022-10-26T15:49:57.936883",
     "exception": false,
     "start_time": "2022-10-26T15:49:56.552922",
     "status": "completed"
    },
    "tags": []
   },
   "outputs": [
    {
     "name": "stdout",
     "output_type": "stream",
     "text": [
      "MSE: 0.047058823529411764\n"
     ]
    }
   ],
   "source": [
    "from sklearn.ensemble import BaggingClassifier\n",
    "model_bagging = BaggingClassifier(n_jobs = -1, random_state = 0)\n",
    "\n",
    "my_pipeline_bagging = Pipeline(steps=[('preprocessor', preprocessor), ('model', model_bagging)])\n",
    "\n",
    "my_pipeline_bagging.fit(X_train, y_train)\n",
    "preds = my_pipeline_bagging.predict(X_valid)\n",
    "MSE = mean_squared_error(y_valid, preds)\n",
    "MSEs['Bagging'] = MSE\n",
    "print('MSE:', MSE)"
   ]
  },
  {
   "cell_type": "code",
   "execution_count": 25,
   "id": "be213c80",
   "metadata": {
    "execution": {
     "iopub.execute_input": "2022-10-26T15:49:57.957525Z",
     "iopub.status.busy": "2022-10-26T15:49:57.956862Z",
     "iopub.status.idle": "2022-10-26T15:49:58.636281Z",
     "shell.execute_reply": "2022-10-26T15:49:58.635110Z"
    },
    "papermill": {
     "duration": 0.692437,
     "end_time": "2022-10-26T15:49:58.638521",
     "exception": false,
     "start_time": "2022-10-26T15:49:57.946084",
     "status": "completed"
    },
    "tags": []
   },
   "outputs": [
    {
     "name": "stdout",
     "output_type": "stream",
     "text": [
      "MSE: 0.03294117647058824\n"
     ]
    }
   ],
   "source": [
    "from sklearn.ensemble import RandomForestClassifier\n",
    "model_rf = RandomForestClassifier(random_state=0, n_jobs = -1)\n",
    "\n",
    "my_pipeline_rf = Pipeline(steps=[('preprocessor', preprocessor), ('model', model_rf)])\n",
    "\n",
    "my_pipeline_rf.fit(X_train, y_train)\n",
    "preds = my_pipeline_rf.predict(X_valid)\n",
    "MSE = mean_squared_error(y_valid, preds)\n",
    "MSEs['Random Forest'] = MSE\n",
    "print('MSE:', MSE)"
   ]
  },
  {
   "cell_type": "code",
   "execution_count": 26,
   "id": "5cedd620",
   "metadata": {
    "execution": {
     "iopub.execute_input": "2022-10-26T15:49:58.659131Z",
     "iopub.status.busy": "2022-10-26T15:49:58.658724Z",
     "iopub.status.idle": "2022-10-26T15:49:58.964364Z",
     "shell.execute_reply": "2022-10-26T15:49:58.963603Z"
    },
    "papermill": {
     "duration": 0.318342,
     "end_time": "2022-10-26T15:49:58.966398",
     "exception": false,
     "start_time": "2022-10-26T15:49:58.648056",
     "status": "completed"
    },
    "tags": []
   },
   "outputs": [
    {
     "data": {
      "text/plain": [
       "([0, 1, 2, 3, 4, 5, 6, 7],\n",
       " [Text(0, 0, ''),\n",
       "  Text(0, 0, ''),\n",
       "  Text(0, 0, ''),\n",
       "  Text(0, 0, ''),\n",
       "  Text(0, 0, ''),\n",
       "  Text(0, 0, ''),\n",
       "  Text(0, 0, ''),\n",
       "  Text(0, 0, '')])"
      ]
     },
     "execution_count": 26,
     "metadata": {},
     "output_type": "execute_result"
    },
    {
     "data": {
      "image/png": "[encoded data removed]",
      "text/plain": [
       "<Figure size 864x576 with 1 Axes>"
      ]
     },
     "metadata": {},
     "output_type": "display_data"
    }
   ],
   "source": [
    "import matplotlib.pyplot as plt\n",
    "plt.scatter(MSEs.keys(), MSEs.values())\n",
    "plt.xticks(rotation=90)"
   ]
  },
  {
   "cell_type": "markdown",
   "id": "109c8bc8",
   "metadata": {
    "papermill": {
     "duration": 0.009462,
     "end_time": "2022-10-26T15:49:58.985759",
     "exception": false,
     "start_time": "2022-10-26T15:49:58.976297",
     "status": "completed"
    },
    "tags": []
   },
   "source": [
    "Random forest and XGB are methods worth optimising on"
   ]
  },
  {
   "cell_type": "code",
   "execution_count": 27,
   "id": "3b1ad188",
   "metadata": {
    "execution": {
     "iopub.execute_input": "2022-10-26T15:49:59.007200Z",
     "iopub.status.busy": "2022-10-26T15:49:59.006146Z",
     "iopub.status.idle": "2022-10-26T15:50:01.187589Z",
     "shell.execute_reply": "2022-10-26T15:50:01.186222Z"
    },
    "papermill": {
     "duration": 2.194947,
     "end_time": "2022-10-26T15:50:01.190279",
     "exception": false,
     "start_time": "2022-10-26T15:49:58.995332",
     "status": "completed"
    },
    "tags": []
   },
   "outputs": [
    {
     "name": "stdout",
     "output_type": "stream",
     "text": [
      "Average MSE score with Random Forest: 0.04441176470588235\n"
     ]
    }
   ],
   "source": [
    "kfold = KFold(shuffle=True, random_state=0)\n",
    "scores = cross_validate(my_pipeline_rf, X_train, y_train, scoring='neg_mean_squared_error', cv=kfold)\n",
    "\n",
    "print('Average MSE score with Random Forest:', (scores['test_score'] * -1).mean())"
   ]
  },
  {
   "cell_type": "code",
   "execution_count": 28,
   "id": "9fa71b4d",
   "metadata": {
    "execution": {
     "iopub.execute_input": "2022-10-26T15:50:01.212196Z",
     "iopub.status.busy": "2022-10-26T15:50:01.211759Z",
     "iopub.status.idle": "2022-10-26T15:50:04.954491Z",
     "shell.execute_reply": "2022-10-26T15:50:04.953352Z"
    },
    "papermill": {
     "duration": 3.75981,
     "end_time": "2022-10-26T15:50:04.960496",
     "exception": false,
     "start_time": "2022-10-26T15:50:01.200686",
     "status": "completed"
    },
    "tags": []
   },
   "outputs": [
    {
     "name": "stdout",
     "output_type": "stream",
     "text": [
      "Average MSE score with XGB: 0.04470588235294118\n"
     ]
    }
   ],
   "source": [
    "kfold = KFold(shuffle=True, random_state=0)\n",
    "scores = cross_validate(my_pipeline_xgb, X_train, y_train, scoring='neg_mean_squared_error', cv=kfold)\n",
    "\n",
    "print('Average MSE score with XGB:', (scores['test_score'] * -1).mean())"
   ]
  },
  {
   "cell_type": "code",
   "execution_count": 29,
   "id": "9f5a0f15",
   "metadata": {
    "execution": {
     "iopub.execute_input": "2022-10-26T15:50:04.995026Z",
     "iopub.status.busy": "2022-10-26T15:50:04.994101Z",
     "iopub.status.idle": "2022-10-26T15:50:05.683639Z",
     "shell.execute_reply": "2022-10-26T15:50:05.682698Z"
    },
    "papermill": {
     "duration": 0.704077,
     "end_time": "2022-10-26T15:50:05.686421",
     "exception": false,
     "start_time": "2022-10-26T15:50:04.982344",
     "status": "completed"
    },
    "tags": []
   },
   "outputs": [],
   "source": [
    "final_model = model_rf\n",
    "final_pipeline = Pipeline(steps = [\n",
    "    ('preprocessor', preprocessor),\n",
    "    ('model', final_model)\n",
    "])\n",
    "\n",
    "X_train = training_set.copy()\n",
    "y_train = X_train.churn\n",
    "\n",
    "final_pipeline.fit(X_train, y_train)\n",
    "\n",
    "final_prediction = final_pipeline.predict(X_test)"
   ]
  },
  {
   "cell_type": "code",
   "execution_count": 30,
   "id": "234a5014",
   "metadata": {
    "execution": {
     "iopub.execute_input": "2022-10-26T15:50:05.708340Z",
     "iopub.status.busy": "2022-10-26T15:50:05.707961Z",
     "iopub.status.idle": "2022-10-26T15:50:05.718354Z",
     "shell.execute_reply": "2022-10-26T15:50:05.717558Z"
    },
    "papermill": {
     "duration": 0.024112,
     "end_time": "2022-10-26T15:50:05.720656",
     "exception": false,
     "start_time": "2022-10-26T15:50:05.696544",
     "status": "completed"
    },
    "tags": []
   },
   "outputs": [],
   "source": [
    "output = pd.DataFrame({\n",
    "    'id': test_set.id,\n",
    "    'churn': final_prediction\n",
    "})\n",
    "output.to_csv('submission.csv', index = False)"
   ]
  },
  {
   "cell_type": "code",
   "execution_count": 31,
   "id": "5e341feb",
   "metadata": {
    "execution": {
     "iopub.execute_input": "2022-10-26T15:50:05.742565Z",
     "iopub.status.busy": "2022-10-26T15:50:05.741860Z",
     "iopub.status.idle": "2022-10-26T15:50:05.748396Z",
     "shell.execute_reply": "2022-10-26T15:50:05.747443Z"
    },
    "papermill": {
     "duration": 0.019901,
     "end_time": "2022-10-26T15:50:05.750580",
     "exception": false,
     "start_time": "2022-10-26T15:50:05.730679",
     "status": "completed"
    },
    "tags": []
   },
   "outputs": [
    {
     "data": {
      "text/plain": [
       "(750,)"
      ]
     },
     "execution_count": 31,
     "metadata": {},
     "output_type": "execute_result"
    }
   ],
   "source": [
    "final_prediction.shape"
   ]
  },
  {
   "cell_type": "markdown",
   "id": "708ce635",
   "metadata": {
    "papermill": {
     "duration": 0.010309,
     "end_time": "2022-10-26T15:50:05.770785",
     "exception": false,
     "start_time": "2022-10-26T15:50:05.760476",
     "status": "completed"
    },
    "tags": []
   },
   "source": [
    "With the above, we've gotten up to 94% accuracy. Let's see if we can get better with some feature engineering or dimensionality reduction."
   ]
  },
  {
   "cell_type": "code",
   "execution_count": null,
   "id": "ca38ed63",
   "metadata": {
    "papermill": {
     "duration": 0.009663,
     "end_time": "2022-10-26T15:50:05.790505",
     "exception": false,
     "start_time": "2022-10-26T15:50:05.780842",
     "status": "completed"
    },
    "tags": []
   },
   "outputs": [],
   "source": []
  }
 ],
 "metadata": {
  "kernelspec": {
   "display_name": "Python 3",
   "language": "python",
   "name": "python3"
  },
  "language_info": {
   "codemirror_mode": {
    "name": "ipython",
    "version": 3
   },
   "file_extension": ".py",
   "mimetype": "text/x-python",
   "name": "python",
   "nbconvert_exporter": "python",
   "pygments_lexer": "ipython3",
   "version": "3.7.12"
  },
  "papermill": {
   "default_parameters": {},
   "duration": 25.709945,
   "end_time": "2022-10-26T15:50:08.421457",
   "environment_variables": {},
   "exception": null,
   "input_path": "__notebook__.ipynb",
   "output_path": "__notebook__.ipynb",
   "parameters": {},
   "start_time": "2022-10-26T15:49:42.711512",
   "version": "2.3.4"
  }
 },
 "nbformat": 4,
 "nbformat_minor": 5
}
